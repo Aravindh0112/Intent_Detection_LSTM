{
  "nbformat": 4,
  "nbformat_minor": 0,
  "metadata": {
    "colab": {
      "name": "LSTM_ATIS_Intent.ipynb",
      "provenance": []
    },
    "kernelspec": {
      "name": "python3",
      "display_name": "Python 3"
    },
    "language_info": {
      "name": "python"
    }
  },
  "cells": [
    {
      "cell_type": "code",
      "metadata": {
        "id": "0Oa6Ct6Bi8rt"
      },
      "source": [
        "pip freeze > requirements.txt"
      ],
      "execution_count": null,
      "outputs": []
    },
    {
      "cell_type": "code",
      "metadata": {
        "id": "vy0hqDnFEW2v"
      },
      "source": [
        "import pandas as pd\n",
        "from nltk.corpus import stopwords\n",
        "from nltk.tokenize import word_tokenize\n",
        "from nltk.stem.lancaster import LancasterStemmer\n",
        "import nltk\n",
        "import re\n",
        "from sklearn.preprocessing import OneHotEncoder\n",
        "import matplotlib.pyplot as plt\n",
        "from keras.preprocessing.text import Tokenizer\n",
        "from keras.preprocessing.sequence import pad_sequences\n",
        "from keras.utils import to_categorical\n",
        "from keras.models import Sequential, load_model\n",
        "from keras.layers import Dense, LSTM, Bidirectional, Embedding, Dropout\n",
        "from keras.callbacks import ModelCheckpoint"
      ],
      "execution_count": 1,
      "outputs": []
    },
    {
      "cell_type": "code",
      "metadata": {
        "id": "aJXjahozEv_E"
      },
      "source": [
        "def load_dataset(filename):\n",
        "  df = pd.read_csv(filename, encoding = \"latin1\", names = [\"Intent\", \"Sentence\"])\n",
        "  #df.head(10)\n",
        "  print(df.head(10))\n",
        "  intent = df[\"Intent\"]\n",
        "  unique_intent = list(set(intent))\n",
        "  sentences = list(df[\"Sentence\"])\n",
        "  \n",
        "  return (intent, unique_intent, sentences)"
      ],
      "execution_count": 2,
      "outputs": []
    },
    {
      "cell_type": "code",
      "metadata": {
        "colab": {
          "base_uri": "https://localhost:8080/"
        },
        "id": "qKpv6nQ4E8Uz",
        "outputId": "284a39f7-cfba-46ff-a551-c5ed9c7950c5"
      },
      "source": [
        "intent, unique_intent, sentences = load_dataset(\"atis_intents_train.csv\")"
      ],
      "execution_count": 3,
      "outputs": [
        {
          "output_type": "stream",
          "text": [
            "                Intent                                           Sentence\n",
            "0          atis_flight   i want to fly from boston at 838 am and arriv...\n",
            "1          atis_flight   what flights are available from pittsburgh to...\n",
            "2     atis_flight_time   what is the arrival time in san francisco for...\n",
            "3         atis_airfare            cheapest airfare from tacoma to orlando\n",
            "4         atis_airfare   round trip fares from pittsburgh to philadelp...\n",
            "5          atis_flight   i need a flight tomorrow from columbus to min...\n",
            "6        atis_aircraft   what kind of aircraft is used on a flight fro...\n",
            "7          atis_flight   show me the flights from pittsburgh to los an...\n",
            "8          atis_flight              all flights from boston to washington\n",
            "9  atis_ground_service   what kind of ground transportation is availab...\n"
          ],
          "name": "stdout"
        }
      ]
    },
    {
      "cell_type": "code",
      "metadata": {
        "colab": {
          "base_uri": "https://localhost:8080/"
        },
        "id": "PNtXNDB9FRVo",
        "outputId": "d13999f7-b92c-400b-c4d4-052c74cc1268"
      },
      "source": [
        "print(sentences[:5])"
      ],
      "execution_count": 4,
      "outputs": [
        {
          "output_type": "stream",
          "text": [
            "[' i want to fly from boston at 838 am and arrive in denver at 1110 in the morning', ' what flights are available from pittsburgh to baltimore on thursday morning', ' what is the arrival time in san francisco for the 755 am flight leaving washington', ' cheapest airfare from tacoma to orlando', ' round trip fares from pittsburgh to philadelphia under 1000 dollars']\n"
          ],
          "name": "stdout"
        }
      ]
    },
    {
      "cell_type": "markdown",
      "metadata": {
        "id": "QCIZ7lqgJ5rS"
      },
      "source": [
        "***PREPROCESSING***"
      ]
    },
    {
      "cell_type": "code",
      "metadata": {
        "colab": {
          "base_uri": "https://localhost:8080/"
        },
        "id": "r7h1jSRkFqcI",
        "outputId": "5ec6c6e1-d16e-4c3f-c9f5-036b464df04e"
      },
      "source": [
        "nltk.download(\"stopwords\")\n",
        "nltk.download(\"punkt\")"
      ],
      "execution_count": 5,
      "outputs": [
        {
          "output_type": "stream",
          "text": [
            "[nltk_data] Downloading package stopwords to /root/nltk_data...\n",
            "[nltk_data]   Unzipping corpora/stopwords.zip.\n",
            "[nltk_data] Downloading package punkt to /root/nltk_data...\n",
            "[nltk_data]   Unzipping tokenizers/punkt.zip.\n"
          ],
          "name": "stdout"
        },
        {
          "output_type": "execute_result",
          "data": {
            "text/plain": [
              "True"
            ]
          },
          "metadata": {
            "tags": []
          },
          "execution_count": 5
        }
      ]
    },
    {
      "cell_type": "code",
      "metadata": {
        "id": "7hNueP1uFuKH"
      },
      "source": [
        "stemmer = LancasterStemmer()"
      ],
      "execution_count": 6,
      "outputs": []
    },
    {
      "cell_type": "code",
      "metadata": {
        "id": "zl0T7g7kFvso"
      },
      "source": [
        "def cleaning(sentences):\n",
        "  words = []\n",
        "  for s in sentences:\n",
        "    clean = re.sub(r'[^ a-z A-Z 0-9]', \" \", s)\n",
        "    w = word_tokenize(clean)\n",
        "    #stemming\n",
        "    words.append([i.lower() for i in w])\n",
        "    \n",
        "  return words"
      ],
      "execution_count": 7,
      "outputs": []
    },
    {
      "cell_type": "code",
      "metadata": {
        "colab": {
          "base_uri": "https://localhost:8080/"
        },
        "id": "73MVWXhPFyOo",
        "outputId": "e0c3b019-4961-4c57-eec7-c822c932a24a"
      },
      "source": [
        "cleaned_words = cleaning(sentences)\n",
        "print(len(cleaned_words))\n",
        "print(cleaned_words[:2])"
      ],
      "execution_count": 8,
      "outputs": [
        {
          "output_type": "stream",
          "text": [
            "4844\n",
            "[['i', 'want', 'to', 'fly', 'from', 'boston', 'at', '838', 'am', 'and', 'arrive', 'in', 'denver', 'at', '1110', 'in', 'the', 'morning'], ['what', 'flights', 'are', 'available', 'from', 'pittsburgh', 'to', 'baltimore', 'on', 'thursday', 'morning']]\n"
          ],
          "name": "stdout"
        }
      ]
    },
    {
      "cell_type": "code",
      "metadata": {
        "id": "57nMyTEhF3zH"
      },
      "source": [
        "def create_tokenizer(words, filters = '!\"#$%&()*+,-./:;<=>?@[\\]^_`{|}~'):\n",
        "  token = Tokenizer(filters = filters)\n",
        "  token.fit_on_texts(words)\n",
        "  return token"
      ],
      "execution_count": 9,
      "outputs": []
    },
    {
      "cell_type": "code",
      "metadata": {
        "id": "GBb_y422F7kY"
      },
      "source": [
        "def max_length(words):\n",
        "  return(len(max(words, key = len)))"
      ],
      "execution_count": 10,
      "outputs": []
    },
    {
      "cell_type": "code",
      "metadata": {
        "colab": {
          "base_uri": "https://localhost:8080/"
        },
        "id": "YDWyTYCIF_Zr",
        "outputId": "8f191800-b8bc-4c12-9cba-64ac3cf8744f"
      },
      "source": [
        "word_tokenizer = create_tokenizer(cleaned_words)\n",
        "vocab_size = len(word_tokenizer.word_index) + 1\n",
        "max_length = max_length(cleaned_words)\n",
        "\n",
        "print(\"Vocab Size = %d and Maximum length = %d\" % (vocab_size, max_length))"
      ],
      "execution_count": 11,
      "outputs": [
        {
          "output_type": "stream",
          "text": [
            "Vocab Size = 884 and Maximum length = 48\n"
          ],
          "name": "stdout"
        }
      ]
    },
    {
      "cell_type": "code",
      "metadata": {
        "id": "GwEy6EapGBrL"
      },
      "source": [
        "def encoding_doc(token, words):\n",
        "  return(token.texts_to_sequences(words))"
      ],
      "execution_count": 12,
      "outputs": []
    },
    {
      "cell_type": "code",
      "metadata": {
        "id": "-JsXBBZDGD-K"
      },
      "source": [
        "encoded_doc = encoding_doc(word_tokenizer, cleaned_words)"
      ],
      "execution_count": 13,
      "outputs": []
    },
    {
      "cell_type": "code",
      "metadata": {
        "id": "EjForAOSGF_T"
      },
      "source": [
        "def padding_doc(encoded_doc, max_length):\n",
        "  return(pad_sequences(encoded_doc, maxlen = max_length, padding = \"post\"))"
      ],
      "execution_count": 14,
      "outputs": []
    },
    {
      "cell_type": "code",
      "metadata": {
        "id": "MNBzX2ubGIVc"
      },
      "source": [
        "\n",
        "padded_doc = padding_doc(encoded_doc, max_length)"
      ],
      "execution_count": 15,
      "outputs": []
    },
    {
      "cell_type": "code",
      "metadata": {
        "colab": {
          "base_uri": "https://localhost:8080/"
        },
        "id": "HqcCZqdiGKVJ",
        "outputId": "1f76b977-199b-4bc3-8e1f-9a9ce0910620"
      },
      "source": [
        "padded_doc[:5]"
      ],
      "execution_count": 16,
      "outputs": [
        {
          "output_type": "execute_result",
          "data": {
            "text/plain": [
              "array([[ 12,  68,   1,  38,   2,   9,  69, 397,  84,  17,  78,  16,  13,\n",
              "         69, 511,  16,   4,  35,   0,   0,   0,   0,   0,   0,   0,   0,\n",
              "          0,   0,   0,   0,   0,   0,   0,   0,   0,   0,   0,   0,   0,\n",
              "          0,   0,   0,   0,   0,   0,   0,   0,   0],\n",
              "       [  6,   3,  26,  56,   2,  19,   1,  22,   5,  75,  35,   0,   0,\n",
              "          0,   0,   0,   0,   0,   0,   0,   0,   0,   0,   0,   0,   0,\n",
              "          0,   0,   0,   0,   0,   0,   0,   0,   0,   0,   0,   0,   0,\n",
              "          0,   0,   0,   0,   0,   0,   0,   0,   0],\n",
              "       [  6,  21,   4, 398, 182,  16,  11,  15,  39,   4, 512,  84,   8,\n",
              "         33,  32,   0,   0,   0,   0,   0,   0,   0,   0,   0,   0,   0,\n",
              "          0,   0,   0,   0,   0,   0,   0,   0,   0,   0,   0,   0,   0,\n",
              "          0,   0,   0,   0,   0,   0,   0,   0,   0],\n",
              "       [ 51, 277,   2, 180,   1, 126,   0,   0,   0,   0,   0,   0,   0,\n",
              "          0,   0,   0,   0,   0,   0,   0,   0,   0,   0,   0,   0,   0,\n",
              "          0,   0,   0,   0,   0,   0,   0,   0,   0,   0,   0,   0,   0,\n",
              "          0,   0,   0,   0,   0,   0,   0,   0,   0],\n",
              "       [ 55,  49,  70,   2,  19,   1,  24, 316, 227, 170,   0,   0,   0,\n",
              "          0,   0,   0,   0,   0,   0,   0,   0,   0,   0,   0,   0,   0,\n",
              "          0,   0,   0,   0,   0,   0,   0,   0,   0,   0,   0,   0,   0,\n",
              "          0,   0,   0,   0,   0,   0,   0,   0,   0]], dtype=int32)"
            ]
          },
          "metadata": {
            "tags": []
          },
          "execution_count": 16
        }
      ]
    },
    {
      "cell_type": "code",
      "metadata": {
        "colab": {
          "base_uri": "https://localhost:8080/"
        },
        "id": "Jb_dbbJNGMye",
        "outputId": "4e6012c3-cc75-40ba-c1e1-a2e9e401e49c"
      },
      "source": [
        "\n",
        "print(\"Shape of padded docs = \",padded_doc.shape)"
      ],
      "execution_count": 17,
      "outputs": [
        {
          "output_type": "stream",
          "text": [
            "Shape of padded docs =  (4844, 48)\n"
          ],
          "name": "stdout"
        }
      ]
    },
    {
      "cell_type": "code",
      "metadata": {
        "id": "a38Cb9xwGPDM"
      },
      "source": [
        "output_tokenizer = create_tokenizer(unique_intent, filters = '!\"#$%&()*+,-/:;<=>?@[\\]^`{|}~')"
      ],
      "execution_count": 18,
      "outputs": []
    },
    {
      "cell_type": "code",
      "metadata": {
        "colab": {
          "base_uri": "https://localhost:8080/"
        },
        "id": "BECn_xrXGTvf",
        "outputId": "6ed4365a-81bf-4061-b752-bf30971cf028"
      },
      "source": [
        "output_tokenizer.word_index"
      ],
      "execution_count": 19,
      "outputs": [
        {
          "output_type": "execute_result",
          "data": {
            "text/plain": [
              "{'atis_abbreviation': 7,\n",
              " 'atis_aircraft': 4,\n",
              " 'atis_airfare': 2,\n",
              " 'atis_airline': 3,\n",
              " 'atis_flight': 1,\n",
              " 'atis_flight_time': 8,\n",
              " 'atis_ground_service': 6,\n",
              " 'atis_quantity': 5}"
            ]
          },
          "metadata": {
            "tags": []
          },
          "execution_count": 19
        }
      ]
    },
    {
      "cell_type": "code",
      "metadata": {
        "id": "-ZWiIo9yGXrU"
      },
      "source": [
        "encoded_output = encoding_doc(output_tokenizer, intent)"
      ],
      "execution_count": 20,
      "outputs": []
    },
    {
      "cell_type": "code",
      "metadata": {
        "id": "5uIxn-7PGaix"
      },
      "source": [
        "import numpy as np\n",
        "encoded_output = np.array(encoded_output).reshape(len(encoded_output), 1)"
      ],
      "execution_count": 21,
      "outputs": []
    },
    {
      "cell_type": "code",
      "metadata": {
        "colab": {
          "base_uri": "https://localhost:8080/"
        },
        "id": "gGTkMSu9Gh5D",
        "outputId": "287c1e96-683f-4fe9-e42c-c7df93583db1"
      },
      "source": [
        "encoded_output.shape"
      ],
      "execution_count": 22,
      "outputs": [
        {
          "output_type": "execute_result",
          "data": {
            "text/plain": [
              "(4844, 1)"
            ]
          },
          "metadata": {
            "tags": []
          },
          "execution_count": 22
        }
      ]
    },
    {
      "cell_type": "markdown",
      "metadata": {
        "id": "O7K4zUI0KBsL"
      },
      "source": [
        "***ONE HOT ENCODING***"
      ]
    },
    {
      "cell_type": "code",
      "metadata": {
        "id": "j3t8ttWYGkDd"
      },
      "source": [
        "def one_hot(encode):\n",
        "  o = OneHotEncoder(sparse = False)\n",
        "  return(o.fit_transform(encode))"
      ],
      "execution_count": 23,
      "outputs": []
    },
    {
      "cell_type": "code",
      "metadata": {
        "id": "E120hSugGlro"
      },
      "source": [
        "output_one_hot = one_hot(encoded_output)"
      ],
      "execution_count": 24,
      "outputs": []
    },
    {
      "cell_type": "code",
      "metadata": {
        "colab": {
          "base_uri": "https://localhost:8080/"
        },
        "id": "EyeP22QLGo1t",
        "outputId": "c6e3d5c4-58e7-48c7-9a19-84d71d8faba9"
      },
      "source": [
        "output_one_hot.shape"
      ],
      "execution_count": 25,
      "outputs": [
        {
          "output_type": "execute_result",
          "data": {
            "text/plain": [
              "(4844, 8)"
            ]
          },
          "metadata": {
            "tags": []
          },
          "execution_count": 25
        }
      ]
    },
    {
      "cell_type": "code",
      "metadata": {
        "id": "4jcortraGray"
      },
      "source": [
        "from sklearn.model_selection import train_test_split\n"
      ],
      "execution_count": 26,
      "outputs": []
    },
    {
      "cell_type": "code",
      "metadata": {
        "id": "qpDgLswlG_Xd"
      },
      "source": [
        "train_X, val_X, train_Y, val_Y = train_test_split(padded_doc, output_one_hot, shuffle = True, test_size = 0.2)"
      ],
      "execution_count": 27,
      "outputs": []
    },
    {
      "cell_type": "code",
      "metadata": {
        "colab": {
          "base_uri": "https://localhost:8080/"
        },
        "id": "XrK3vM5uHCbH",
        "outputId": "25b349bb-8b1f-470a-8e67-424d6ee0f258"
      },
      "source": [
        "print(\"Shape of train_X = %s and train_Y = %s\" % (train_X.shape, train_Y.shape))\n",
        "print(\"Shape of val_X = %s and val_Y = %s\" % (val_X.shape, val_Y.shape))"
      ],
      "execution_count": 28,
      "outputs": [
        {
          "output_type": "stream",
          "text": [
            "Shape of train_X = (3875, 48) and train_Y = (3875, 8)\n",
            "Shape of val_X = (969, 48) and val_Y = (969, 8)\n"
          ],
          "name": "stdout"
        }
      ]
    },
    {
      "cell_type": "markdown",
      "metadata": {
        "id": "t6GWZMWFKTX-"
      },
      "source": [
        "***LSTM MODEL CREATION***"
      ]
    },
    {
      "cell_type": "code",
      "metadata": {
        "id": "fkRkxcMpHJ7d"
      },
      "source": [
        "def create_model(vocab_size, max_length):\n",
        "  model = Sequential()\n",
        "  model.add(Embedding(vocab_size, 128, input_length = max_length, trainable = False))\n",
        "  model.add(Bidirectional(LSTM(128)))\n",
        "#   model.add(LSTM(128))\n",
        "  model.add(Dense(32, activation = \"relu\"))\n",
        "  model.add(Dropout(0.5))\n",
        "  model.add(Dense(8, activation = \"softmax\"))\n",
        "  \n",
        "  return model"
      ],
      "execution_count": 29,
      "outputs": []
    },
    {
      "cell_type": "code",
      "metadata": {
        "colab": {
          "base_uri": "https://localhost:8080/"
        },
        "id": "qWeOKNfCHMeS",
        "outputId": "192ccc58-3791-4136-a46f-a2fde836005d"
      },
      "source": [
        "model = create_model(vocab_size, max_length)\n",
        "\n",
        "model.compile(loss = \"categorical_crossentropy\", optimizer = \"adam\", metrics = [\"accuracy\"])\n",
        "model.summary()"
      ],
      "execution_count": 30,
      "outputs": [
        {
          "output_type": "stream",
          "text": [
            "Model: \"sequential\"\n",
            "_________________________________________________________________\n",
            "Layer (type)                 Output Shape              Param #   \n",
            "=================================================================\n",
            "embedding (Embedding)        (None, 48, 128)           113152    \n",
            "_________________________________________________________________\n",
            "bidirectional (Bidirectional (None, 256)               263168    \n",
            "_________________________________________________________________\n",
            "dense (Dense)                (None, 32)                8224      \n",
            "_________________________________________________________________\n",
            "dropout (Dropout)            (None, 32)                0         \n",
            "_________________________________________________________________\n",
            "dense_1 (Dense)              (None, 8)                 264       \n",
            "=================================================================\n",
            "Total params: 384,808\n",
            "Trainable params: 271,656\n",
            "Non-trainable params: 113,152\n",
            "_________________________________________________________________\n"
          ],
          "name": "stdout"
        }
      ]
    },
    {
      "cell_type": "code",
      "metadata": {
        "colab": {
          "base_uri": "https://localhost:8080/"
        },
        "id": "auXYg2paHOx7",
        "outputId": "fdb99a3c-83c8-4a8a-a0cb-233e1017459d"
      },
      "source": [
        "filename = 'model.h5'\n",
        "checkpoint = ModelCheckpoint(filename, monitor='val_loss', verbose=1, save_best_only=True, mode='min')\n",
        "\n",
        "hist = model.fit(train_X, train_Y, epochs = 100, batch_size = 32, validation_data = (val_X, val_Y), callbacks = [checkpoint])"
      ],
      "execution_count": 31,
      "outputs": [
        {
          "output_type": "stream",
          "text": [
            "Epoch 1/100\n",
            "122/122 [==============================] - 17s 109ms/step - loss: 1.4578 - accuracy: 0.5880 - val_loss: 0.9533 - val_accuracy: 0.7761\n",
            "\n",
            "Epoch 00001: val_loss improved from inf to 0.95331, saving model to model.h5\n",
            "Epoch 2/100\n",
            "122/122 [==============================] - 12s 100ms/step - loss: 1.0754 - accuracy: 0.7380 - val_loss: 0.6627 - val_accuracy: 0.7936\n",
            "\n",
            "Epoch 00002: val_loss improved from 0.95331 to 0.66270, saving model to model.h5\n",
            "Epoch 3/100\n",
            "122/122 [==============================] - 12s 101ms/step - loss: 0.8223 - accuracy: 0.7621 - val_loss: 0.5848 - val_accuracy: 0.8349\n",
            "\n",
            "Epoch 00003: val_loss improved from 0.66270 to 0.58475, saving model to model.h5\n",
            "Epoch 4/100\n",
            "122/122 [==============================] - 12s 100ms/step - loss: 0.6618 - accuracy: 0.8032 - val_loss: 0.4787 - val_accuracy: 0.8462\n",
            "\n",
            "Epoch 00004: val_loss improved from 0.58475 to 0.47868, saving model to model.h5\n",
            "Epoch 5/100\n",
            "122/122 [==============================] - 12s 101ms/step - loss: 0.5897 - accuracy: 0.8356 - val_loss: 0.4469 - val_accuracy: 0.8638\n",
            "\n",
            "Epoch 00005: val_loss improved from 0.47868 to 0.44692, saving model to model.h5\n",
            "Epoch 6/100\n",
            "122/122 [==============================] - 12s 101ms/step - loss: 0.4978 - accuracy: 0.8603 - val_loss: 0.3779 - val_accuracy: 0.8731\n",
            "\n",
            "Epoch 00006: val_loss improved from 0.44692 to 0.37793, saving model to model.h5\n",
            "Epoch 7/100\n",
            "122/122 [==============================] - 12s 101ms/step - loss: 0.4566 - accuracy: 0.8614 - val_loss: 0.3598 - val_accuracy: 0.8854\n",
            "\n",
            "Epoch 00007: val_loss improved from 0.37793 to 0.35975, saving model to model.h5\n",
            "Epoch 8/100\n",
            "122/122 [==============================] - 12s 100ms/step - loss: 0.4015 - accuracy: 0.8778 - val_loss: 0.3458 - val_accuracy: 0.9030\n",
            "\n",
            "Epoch 00008: val_loss improved from 0.35975 to 0.34575, saving model to model.h5\n",
            "Epoch 9/100\n",
            "122/122 [==============================] - 12s 101ms/step - loss: 0.3512 - accuracy: 0.8881 - val_loss: 0.3081 - val_accuracy: 0.9164\n",
            "\n",
            "Epoch 00009: val_loss improved from 0.34575 to 0.30807, saving model to model.h5\n",
            "Epoch 10/100\n",
            "122/122 [==============================] - 12s 101ms/step - loss: 0.3147 - accuracy: 0.9014 - val_loss: 0.2931 - val_accuracy: 0.9205\n",
            "\n",
            "Epoch 00010: val_loss improved from 0.30807 to 0.29310, saving model to model.h5\n",
            "Epoch 11/100\n",
            "122/122 [==============================] - 12s 101ms/step - loss: 0.3099 - accuracy: 0.9122 - val_loss: 0.2594 - val_accuracy: 0.9278\n",
            "\n",
            "Epoch 00011: val_loss improved from 0.29310 to 0.25937, saving model to model.h5\n",
            "Epoch 12/100\n",
            "122/122 [==============================] - 12s 100ms/step - loss: 0.2656 - accuracy: 0.9198 - val_loss: 0.2904 - val_accuracy: 0.9133\n",
            "\n",
            "Epoch 00012: val_loss did not improve from 0.25937\n",
            "Epoch 13/100\n",
            "122/122 [==============================] - 12s 101ms/step - loss: 0.3076 - accuracy: 0.9068 - val_loss: 0.2367 - val_accuracy: 0.9329\n",
            "\n",
            "Epoch 00013: val_loss improved from 0.25937 to 0.23665, saving model to model.h5\n",
            "Epoch 14/100\n",
            "122/122 [==============================] - 12s 101ms/step - loss: 0.2379 - accuracy: 0.9279 - val_loss: 0.2240 - val_accuracy: 0.9340\n",
            "\n",
            "Epoch 00014: val_loss improved from 0.23665 to 0.22399, saving model to model.h5\n",
            "Epoch 15/100\n",
            "122/122 [==============================] - 12s 101ms/step - loss: 0.2049 - accuracy: 0.9329 - val_loss: 0.2263 - val_accuracy: 0.9391\n",
            "\n",
            "Epoch 00015: val_loss did not improve from 0.22399\n",
            "Epoch 16/100\n",
            "122/122 [==============================] - 12s 101ms/step - loss: 0.1728 - accuracy: 0.9428 - val_loss: 0.2180 - val_accuracy: 0.9422\n",
            "\n",
            "Epoch 00016: val_loss improved from 0.22399 to 0.21798, saving model to model.h5\n",
            "Epoch 17/100\n",
            "122/122 [==============================] - 12s 101ms/step - loss: 0.1618 - accuracy: 0.9528 - val_loss: 0.2123 - val_accuracy: 0.9505\n",
            "\n",
            "Epoch 00017: val_loss improved from 0.21798 to 0.21233, saving model to model.h5\n",
            "Epoch 18/100\n",
            "122/122 [==============================] - 12s 101ms/step - loss: 0.1521 - accuracy: 0.9509 - val_loss: 0.1972 - val_accuracy: 0.9577\n",
            "\n",
            "Epoch 00018: val_loss improved from 0.21233 to 0.19717, saving model to model.h5\n",
            "Epoch 19/100\n",
            "122/122 [==============================] - 12s 101ms/step - loss: 0.1429 - accuracy: 0.9531 - val_loss: 0.2076 - val_accuracy: 0.9525\n",
            "\n",
            "Epoch 00019: val_loss did not improve from 0.19717\n",
            "Epoch 20/100\n",
            "122/122 [==============================] - 12s 101ms/step - loss: 0.1707 - accuracy: 0.9487 - val_loss: 0.2144 - val_accuracy: 0.9474\n",
            "\n",
            "Epoch 00020: val_loss did not improve from 0.19717\n",
            "Epoch 21/100\n",
            "122/122 [==============================] - 12s 101ms/step - loss: 0.1339 - accuracy: 0.9557 - val_loss: 0.1971 - val_accuracy: 0.9525\n",
            "\n",
            "Epoch 00021: val_loss improved from 0.19717 to 0.19714, saving model to model.h5\n",
            "Epoch 22/100\n",
            "122/122 [==============================] - 12s 100ms/step - loss: 0.1882 - accuracy: 0.9441 - val_loss: 0.2094 - val_accuracy: 0.9494\n",
            "\n",
            "Epoch 00022: val_loss did not improve from 0.19714\n",
            "Epoch 23/100\n",
            "122/122 [==============================] - 12s 100ms/step - loss: 0.1270 - accuracy: 0.9593 - val_loss: 0.1677 - val_accuracy: 0.9505\n",
            "\n",
            "Epoch 00023: val_loss improved from 0.19714 to 0.16771, saving model to model.h5\n",
            "Epoch 24/100\n",
            "122/122 [==============================] - 12s 101ms/step - loss: 0.1426 - accuracy: 0.9506 - val_loss: 0.1859 - val_accuracy: 0.9608\n",
            "\n",
            "Epoch 00024: val_loss did not improve from 0.16771\n",
            "Epoch 25/100\n",
            "122/122 [==============================] - 12s 102ms/step - loss: 0.1445 - accuracy: 0.9562 - val_loss: 0.1734 - val_accuracy: 0.9649\n",
            "\n",
            "Epoch 00025: val_loss did not improve from 0.16771\n",
            "Epoch 26/100\n",
            "122/122 [==============================] - 12s 102ms/step - loss: 0.1012 - accuracy: 0.9665 - val_loss: 0.1823 - val_accuracy: 0.9567\n",
            "\n",
            "Epoch 00026: val_loss did not improve from 0.16771\n",
            "Epoch 27/100\n",
            "122/122 [==============================] - 12s 101ms/step - loss: 0.0975 - accuracy: 0.9648 - val_loss: 0.1831 - val_accuracy: 0.9680\n",
            "\n",
            "Epoch 00027: val_loss did not improve from 0.16771\n",
            "Epoch 28/100\n",
            "122/122 [==============================] - 12s 102ms/step - loss: 0.0955 - accuracy: 0.9703 - val_loss: 0.1924 - val_accuracy: 0.9659\n",
            "\n",
            "Epoch 00028: val_loss did not improve from 0.16771\n",
            "Epoch 29/100\n",
            "122/122 [==============================] - 12s 101ms/step - loss: 0.0855 - accuracy: 0.9696 - val_loss: 0.1712 - val_accuracy: 0.9690\n",
            "\n",
            "Epoch 00029: val_loss did not improve from 0.16771\n",
            "Epoch 30/100\n",
            "122/122 [==============================] - 12s 101ms/step - loss: 0.0857 - accuracy: 0.9711 - val_loss: 0.1832 - val_accuracy: 0.9680\n",
            "\n",
            "Epoch 00030: val_loss did not improve from 0.16771\n",
            "Epoch 31/100\n",
            "122/122 [==============================] - 12s 101ms/step - loss: 0.0811 - accuracy: 0.9707 - val_loss: 0.1618 - val_accuracy: 0.9649\n",
            "\n",
            "Epoch 00031: val_loss improved from 0.16771 to 0.16178, saving model to model.h5\n",
            "Epoch 32/100\n",
            "122/122 [==============================] - 12s 101ms/step - loss: 0.0972 - accuracy: 0.9673 - val_loss: 0.1582 - val_accuracy: 0.9680\n",
            "\n",
            "Epoch 00032: val_loss improved from 0.16178 to 0.15815, saving model to model.h5\n",
            "Epoch 33/100\n",
            "122/122 [==============================] - 12s 101ms/step - loss: 0.0607 - accuracy: 0.9791 - val_loss: 0.1866 - val_accuracy: 0.9639\n",
            "\n",
            "Epoch 00033: val_loss did not improve from 0.15815\n",
            "Epoch 34/100\n",
            "122/122 [==============================] - 12s 101ms/step - loss: 0.1033 - accuracy: 0.9658 - val_loss: 0.1563 - val_accuracy: 0.9690\n",
            "\n",
            "Epoch 00034: val_loss improved from 0.15815 to 0.15634, saving model to model.h5\n",
            "Epoch 35/100\n",
            "122/122 [==============================] - 12s 102ms/step - loss: 0.0651 - accuracy: 0.9775 - val_loss: 0.1630 - val_accuracy: 0.9701\n",
            "\n",
            "Epoch 00035: val_loss did not improve from 0.15634\n",
            "Epoch 36/100\n",
            "122/122 [==============================] - 12s 102ms/step - loss: 0.0560 - accuracy: 0.9847 - val_loss: 0.1628 - val_accuracy: 0.9752\n",
            "\n",
            "Epoch 00036: val_loss did not improve from 0.15634\n",
            "Epoch 37/100\n",
            "122/122 [==============================] - 12s 101ms/step - loss: 0.0474 - accuracy: 0.9864 - val_loss: 0.1834 - val_accuracy: 0.9670\n",
            "\n",
            "Epoch 00037: val_loss did not improve from 0.15634\n",
            "Epoch 38/100\n",
            "122/122 [==============================] - 13s 103ms/step - loss: 0.0611 - accuracy: 0.9807 - val_loss: 0.2379 - val_accuracy: 0.9556\n",
            "\n",
            "Epoch 00038: val_loss did not improve from 0.15634\n",
            "Epoch 39/100\n",
            "122/122 [==============================] - 12s 101ms/step - loss: 0.1133 - accuracy: 0.9710 - val_loss: 0.1567 - val_accuracy: 0.9701\n",
            "\n",
            "Epoch 00039: val_loss did not improve from 0.15634\n",
            "Epoch 40/100\n",
            "122/122 [==============================] - 12s 102ms/step - loss: 0.0582 - accuracy: 0.9833 - val_loss: 0.1677 - val_accuracy: 0.9711\n",
            "\n",
            "Epoch 00040: val_loss did not improve from 0.15634\n",
            "Epoch 41/100\n",
            "122/122 [==============================] - 12s 102ms/step - loss: 0.0468 - accuracy: 0.9863 - val_loss: 0.1673 - val_accuracy: 0.9701\n",
            "\n",
            "Epoch 00041: val_loss did not improve from 0.15634\n",
            "Epoch 42/100\n",
            "122/122 [==============================] - 12s 102ms/step - loss: 0.0495 - accuracy: 0.9822 - val_loss: 0.1749 - val_accuracy: 0.9773\n",
            "\n",
            "Epoch 00042: val_loss did not improve from 0.15634\n",
            "Epoch 43/100\n",
            "122/122 [==============================] - 13s 103ms/step - loss: 0.0425 - accuracy: 0.9881 - val_loss: 0.2411 - val_accuracy: 0.9649\n",
            "\n",
            "Epoch 00043: val_loss did not improve from 0.15634\n",
            "Epoch 44/100\n",
            "122/122 [==============================] - 12s 101ms/step - loss: 0.0920 - accuracy: 0.9815 - val_loss: 0.1646 - val_accuracy: 0.9711\n",
            "\n",
            "Epoch 00044: val_loss did not improve from 0.15634\n",
            "Epoch 45/100\n",
            "122/122 [==============================] - 12s 102ms/step - loss: 0.0423 - accuracy: 0.9879 - val_loss: 0.1652 - val_accuracy: 0.9783\n",
            "\n",
            "Epoch 00045: val_loss did not improve from 0.15634\n",
            "Epoch 46/100\n",
            "122/122 [==============================] - 12s 102ms/step - loss: 0.0364 - accuracy: 0.9893 - val_loss: 0.1819 - val_accuracy: 0.9763\n",
            "\n",
            "Epoch 00046: val_loss did not improve from 0.15634\n",
            "Epoch 47/100\n",
            "122/122 [==============================] - 12s 102ms/step - loss: 0.0392 - accuracy: 0.9864 - val_loss: 0.1801 - val_accuracy: 0.9721\n",
            "\n",
            "Epoch 00047: val_loss did not improve from 0.15634\n",
            "Epoch 48/100\n",
            "122/122 [==============================] - 12s 102ms/step - loss: 0.0330 - accuracy: 0.9908 - val_loss: 0.1894 - val_accuracy: 0.9711\n",
            "\n",
            "Epoch 00048: val_loss did not improve from 0.15634\n",
            "Epoch 49/100\n",
            "122/122 [==============================] - 12s 102ms/step - loss: 0.0372 - accuracy: 0.9881 - val_loss: 0.1821 - val_accuracy: 0.9804\n",
            "\n",
            "Epoch 00049: val_loss did not improve from 0.15634\n",
            "Epoch 50/100\n",
            "122/122 [==============================] - 12s 101ms/step - loss: 0.0725 - accuracy: 0.9847 - val_loss: 0.1685 - val_accuracy: 0.9763\n",
            "\n",
            "Epoch 00050: val_loss did not improve from 0.15634\n",
            "Epoch 51/100\n",
            "122/122 [==============================] - 12s 102ms/step - loss: 0.0434 - accuracy: 0.9857 - val_loss: 0.1801 - val_accuracy: 0.9783\n",
            "\n",
            "Epoch 00051: val_loss did not improve from 0.15634\n",
            "Epoch 52/100\n",
            "122/122 [==============================] - 13s 103ms/step - loss: 0.0228 - accuracy: 0.9947 - val_loss: 0.1965 - val_accuracy: 0.9794\n",
            "\n",
            "Epoch 00052: val_loss did not improve from 0.15634\n",
            "Epoch 53/100\n",
            "122/122 [==============================] - 12s 102ms/step - loss: 0.0289 - accuracy: 0.9905 - val_loss: 0.2106 - val_accuracy: 0.9763\n",
            "\n",
            "Epoch 00053: val_loss did not improve from 0.15634\n",
            "Epoch 54/100\n",
            "122/122 [==============================] - 12s 102ms/step - loss: 0.0343 - accuracy: 0.9897 - val_loss: 0.1964 - val_accuracy: 0.9773\n",
            "\n",
            "Epoch 00054: val_loss did not improve from 0.15634\n",
            "Epoch 55/100\n",
            "122/122 [==============================] - 12s 102ms/step - loss: 0.0344 - accuracy: 0.9892 - val_loss: 0.2723 - val_accuracy: 0.9690\n",
            "\n",
            "Epoch 00055: val_loss did not improve from 0.15634\n",
            "Epoch 56/100\n",
            "122/122 [==============================] - 12s 101ms/step - loss: 0.0571 - accuracy: 0.9849 - val_loss: 0.2089 - val_accuracy: 0.9783\n",
            "\n",
            "Epoch 00056: val_loss did not improve from 0.15634\n",
            "Epoch 57/100\n",
            "122/122 [==============================] - 12s 102ms/step - loss: 0.0324 - accuracy: 0.9883 - val_loss: 0.2088 - val_accuracy: 0.9773\n",
            "\n",
            "Epoch 00057: val_loss did not improve from 0.15634\n",
            "Epoch 58/100\n",
            "122/122 [==============================] - 12s 102ms/step - loss: 0.0399 - accuracy: 0.9865 - val_loss: 0.1740 - val_accuracy: 0.9742\n",
            "\n",
            "Epoch 00058: val_loss did not improve from 0.15634\n",
            "Epoch 59/100\n",
            "122/122 [==============================] - 12s 102ms/step - loss: 0.0488 - accuracy: 0.9867 - val_loss: 0.1892 - val_accuracy: 0.9752\n",
            "\n",
            "Epoch 00059: val_loss did not improve from 0.15634\n",
            "Epoch 60/100\n",
            "122/122 [==============================] - 12s 102ms/step - loss: 0.0316 - accuracy: 0.9895 - val_loss: 0.2107 - val_accuracy: 0.9814\n",
            "\n",
            "Epoch 00060: val_loss did not improve from 0.15634\n",
            "Epoch 61/100\n",
            "122/122 [==============================] - 12s 101ms/step - loss: 0.0367 - accuracy: 0.9886 - val_loss: 0.1990 - val_accuracy: 0.9783\n",
            "\n",
            "Epoch 00061: val_loss did not improve from 0.15634\n",
            "Epoch 62/100\n",
            "122/122 [==============================] - 12s 102ms/step - loss: 0.0288 - accuracy: 0.9907 - val_loss: 0.2264 - val_accuracy: 0.9773\n",
            "\n",
            "Epoch 00062: val_loss did not improve from 0.15634\n",
            "Epoch 63/100\n",
            "122/122 [==============================] - 12s 102ms/step - loss: 0.0306 - accuracy: 0.9895 - val_loss: 0.2333 - val_accuracy: 0.9783\n",
            "\n",
            "Epoch 00063: val_loss did not improve from 0.15634\n",
            "Epoch 64/100\n",
            "122/122 [==============================] - 13s 103ms/step - loss: 0.0214 - accuracy: 0.9925 - val_loss: 0.2430 - val_accuracy: 0.9732\n",
            "\n",
            "Epoch 00064: val_loss did not improve from 0.15634\n",
            "Epoch 65/100\n",
            "122/122 [==============================] - 12s 101ms/step - loss: 0.0149 - accuracy: 0.9951 - val_loss: 0.2742 - val_accuracy: 0.9794\n",
            "\n",
            "Epoch 00065: val_loss did not improve from 0.15634\n",
            "Epoch 66/100\n",
            "122/122 [==============================] - 12s 101ms/step - loss: 0.0222 - accuracy: 0.9923 - val_loss: 0.2118 - val_accuracy: 0.9783\n",
            "\n",
            "Epoch 00066: val_loss did not improve from 0.15634\n",
            "Epoch 67/100\n",
            "122/122 [==============================] - 12s 102ms/step - loss: 0.0330 - accuracy: 0.9869 - val_loss: 0.2000 - val_accuracy: 0.9814\n",
            "\n",
            "Epoch 00067: val_loss did not improve from 0.15634\n",
            "Epoch 68/100\n",
            "122/122 [==============================] - 12s 102ms/step - loss: 0.0404 - accuracy: 0.9848 - val_loss: 0.1906 - val_accuracy: 0.9711\n",
            "\n",
            "Epoch 00068: val_loss did not improve from 0.15634\n",
            "Epoch 69/100\n",
            "122/122 [==============================] - 12s 102ms/step - loss: 0.0231 - accuracy: 0.9950 - val_loss: 0.2004 - val_accuracy: 0.9680\n",
            "\n",
            "Epoch 00069: val_loss did not improve from 0.15634\n",
            "Epoch 70/100\n",
            "122/122 [==============================] - 12s 102ms/step - loss: 0.0352 - accuracy: 0.9887 - val_loss: 0.2158 - val_accuracy: 0.9825\n",
            "\n",
            "Epoch 00070: val_loss did not improve from 0.15634\n",
            "Epoch 71/100\n",
            "122/122 [==============================] - 12s 102ms/step - loss: 0.0216 - accuracy: 0.9937 - val_loss: 0.2266 - val_accuracy: 0.9804\n",
            "\n",
            "Epoch 00071: val_loss did not improve from 0.15634\n",
            "Epoch 72/100\n",
            "122/122 [==============================] - 13s 103ms/step - loss: 0.0167 - accuracy: 0.9950 - val_loss: 0.2391 - val_accuracy: 0.9783\n",
            "\n",
            "Epoch 00072: val_loss did not improve from 0.15634\n",
            "Epoch 73/100\n",
            "122/122 [==============================] - 13s 103ms/step - loss: 0.0225 - accuracy: 0.9922 - val_loss: 0.2452 - val_accuracy: 0.9814\n",
            "\n",
            "Epoch 00073: val_loss did not improve from 0.15634\n",
            "Epoch 74/100\n",
            "122/122 [==============================] - 13s 103ms/step - loss: 0.0201 - accuracy: 0.9917 - val_loss: 0.2590 - val_accuracy: 0.9783\n",
            "\n",
            "Epoch 00074: val_loss did not improve from 0.15634\n",
            "Epoch 75/100\n",
            "122/122 [==============================] - 13s 103ms/step - loss: 0.0217 - accuracy: 0.9932 - val_loss: 0.2392 - val_accuracy: 0.9752\n",
            "\n",
            "Epoch 00075: val_loss did not improve from 0.15634\n",
            "Epoch 76/100\n",
            "122/122 [==============================] - 13s 103ms/step - loss: 0.0180 - accuracy: 0.9950 - val_loss: 0.2511 - val_accuracy: 0.9773\n",
            "\n",
            "Epoch 00076: val_loss did not improve from 0.15634\n",
            "Epoch 77/100\n",
            "122/122 [==============================] - 13s 104ms/step - loss: 0.0199 - accuracy: 0.9925 - val_loss: 0.2507 - val_accuracy: 0.9711\n",
            "\n",
            "Epoch 00077: val_loss did not improve from 0.15634\n",
            "Epoch 78/100\n",
            "122/122 [==============================] - 13s 104ms/step - loss: 0.0110 - accuracy: 0.9971 - val_loss: 0.2705 - val_accuracy: 0.9752\n",
            "\n",
            "Epoch 00078: val_loss did not improve from 0.15634\n",
            "Epoch 79/100\n",
            "122/122 [==============================] - 13s 105ms/step - loss: 0.0223 - accuracy: 0.9927 - val_loss: 0.2348 - val_accuracy: 0.9794\n",
            "\n",
            "Epoch 00079: val_loss did not improve from 0.15634\n",
            "Epoch 80/100\n",
            "122/122 [==============================] - 13s 104ms/step - loss: 0.0219 - accuracy: 0.9927 - val_loss: 0.2655 - val_accuracy: 0.9783\n",
            "\n",
            "Epoch 00080: val_loss did not improve from 0.15634\n",
            "Epoch 81/100\n",
            "122/122 [==============================] - 13s 103ms/step - loss: 0.0543 - accuracy: 0.9891 - val_loss: 0.1871 - val_accuracy: 0.9690\n",
            "\n",
            "Epoch 00081: val_loss did not improve from 0.15634\n",
            "Epoch 82/100\n",
            "122/122 [==============================] - 13s 104ms/step - loss: 0.0402 - accuracy: 0.9887 - val_loss: 0.1974 - val_accuracy: 0.9773\n",
            "\n",
            "Epoch 00082: val_loss did not improve from 0.15634\n",
            "Epoch 83/100\n",
            "122/122 [==============================] - 13s 104ms/step - loss: 0.0232 - accuracy: 0.9923 - val_loss: 0.2316 - val_accuracy: 0.9752\n",
            "\n",
            "Epoch 00083: val_loss did not improve from 0.15634\n",
            "Epoch 84/100\n",
            "122/122 [==============================] - 13s 105ms/step - loss: 0.0242 - accuracy: 0.9912 - val_loss: 0.2215 - val_accuracy: 0.9752\n",
            "\n",
            "Epoch 00084: val_loss did not improve from 0.15634\n",
            "Epoch 85/100\n",
            "122/122 [==============================] - 13s 104ms/step - loss: 0.0165 - accuracy: 0.9957 - val_loss: 0.2474 - val_accuracy: 0.9763\n",
            "\n",
            "Epoch 00085: val_loss did not improve from 0.15634\n",
            "Epoch 86/100\n",
            "122/122 [==============================] - 13s 105ms/step - loss: 0.0158 - accuracy: 0.9952 - val_loss: 0.2564 - val_accuracy: 0.9794\n",
            "\n",
            "Epoch 00086: val_loss did not improve from 0.15634\n",
            "Epoch 87/100\n",
            "122/122 [==============================] - 13s 105ms/step - loss: 0.0198 - accuracy: 0.9954 - val_loss: 0.2115 - val_accuracy: 0.9804\n",
            "\n",
            "Epoch 00087: val_loss did not improve from 0.15634\n",
            "Epoch 88/100\n",
            "122/122 [==============================] - 13s 105ms/step - loss: 0.0159 - accuracy: 0.9930 - val_loss: 0.2204 - val_accuracy: 0.9825\n",
            "\n",
            "Epoch 00088: val_loss did not improve from 0.15634\n",
            "Epoch 89/100\n",
            "122/122 [==============================] - 13s 104ms/step - loss: 0.0175 - accuracy: 0.9933 - val_loss: 0.2359 - val_accuracy: 0.9804\n",
            "\n",
            "Epoch 00089: val_loss did not improve from 0.15634\n",
            "Epoch 90/100\n",
            "122/122 [==============================] - 13s 104ms/step - loss: 0.0198 - accuracy: 0.9921 - val_loss: 0.2385 - val_accuracy: 0.9783\n",
            "\n",
            "Epoch 00090: val_loss did not improve from 0.15634\n",
            "Epoch 91/100\n",
            "122/122 [==============================] - 13s 105ms/step - loss: 0.0451 - accuracy: 0.9905 - val_loss: 0.2079 - val_accuracy: 0.9773\n",
            "\n",
            "Epoch 00091: val_loss did not improve from 0.15634\n",
            "Epoch 92/100\n",
            "122/122 [==============================] - 13s 104ms/step - loss: 0.0195 - accuracy: 0.9942 - val_loss: 0.2417 - val_accuracy: 0.9804\n",
            "\n",
            "Epoch 00092: val_loss did not improve from 0.15634\n",
            "Epoch 93/100\n",
            "122/122 [==============================] - 13s 106ms/step - loss: 0.0153 - accuracy: 0.9940 - val_loss: 0.2830 - val_accuracy: 0.9814\n",
            "\n",
            "Epoch 00093: val_loss did not improve from 0.15634\n",
            "Epoch 94/100\n",
            "122/122 [==============================] - 13s 104ms/step - loss: 0.0195 - accuracy: 0.9941 - val_loss: 0.2603 - val_accuracy: 0.9814\n",
            "\n",
            "Epoch 00094: val_loss did not improve from 0.15634\n",
            "Epoch 95/100\n",
            "122/122 [==============================] - 13s 104ms/step - loss: 0.0153 - accuracy: 0.9943 - val_loss: 0.2821 - val_accuracy: 0.9804\n",
            "\n",
            "Epoch 00095: val_loss did not improve from 0.15634\n",
            "Epoch 96/100\n",
            "122/122 [==============================] - 13s 105ms/step - loss: 0.0119 - accuracy: 0.9965 - val_loss: 0.2873 - val_accuracy: 0.9773\n",
            "\n",
            "Epoch 00096: val_loss did not improve from 0.15634\n",
            "Epoch 97/100\n",
            "122/122 [==============================] - 13s 105ms/step - loss: 0.0120 - accuracy: 0.9951 - val_loss: 0.2885 - val_accuracy: 0.9773\n",
            "\n",
            "Epoch 00097: val_loss did not improve from 0.15634\n",
            "Epoch 98/100\n",
            "122/122 [==============================] - 13s 105ms/step - loss: 0.0165 - accuracy: 0.9924 - val_loss: 0.2914 - val_accuracy: 0.9804\n",
            "\n",
            "Epoch 00098: val_loss did not improve from 0.15634\n",
            "Epoch 99/100\n",
            "122/122 [==============================] - 13s 104ms/step - loss: 0.0179 - accuracy: 0.9933 - val_loss: 0.2961 - val_accuracy: 0.9794\n",
            "\n",
            "Epoch 00099: val_loss did not improve from 0.15634\n",
            "Epoch 100/100\n",
            "122/122 [==============================] - 13s 104ms/step - loss: 0.0120 - accuracy: 0.9952 - val_loss: 0.3042 - val_accuracy: 0.9814\n",
            "\n",
            "Epoch 00100: val_loss did not improve from 0.15634\n"
          ],
          "name": "stdout"
        }
      ]
    },
    {
      "cell_type": "code",
      "metadata": {
        "id": "SUlb4lM4K3w-"
      },
      "source": [
        "model = load_model(\"model.h5\")"
      ],
      "execution_count": 69,
      "outputs": []
    },
    {
      "cell_type": "code",
      "metadata": {
        "id": "WoX3vBHPK4U-"
      },
      "source": [
        "def predictions(text):\n",
        "  clean = re.sub(r'[^ a-z A-Z 0-9]', \" \", text)\n",
        "  test_word = word_tokenize(clean)\n",
        "  test_word = [w.lower() for w in test_word]\n",
        "  test_ls = word_tokenizer.texts_to_sequences(test_word)\n",
        "  #print(test_word)\n",
        "  #Check for unknown words\n",
        "  if [] in test_ls:\n",
        "    test_ls = list(filter(None, test_ls))\n",
        "    \n",
        "  test_ls = np.array(test_ls).reshape(1, len(test_ls))\n",
        " \n",
        "  x = padding_doc(test_ls, max_length)\n",
        "  \n",
        "  pred = model.predict(x)\n",
        "\n",
        "  return pred\n",
        "  \n",
        "  "
      ],
      "execution_count": 70,
      "outputs": []
    },
    {
      "cell_type": "code",
      "metadata": {
        "id": "4MsSGpDzK6IN"
      },
      "source": [
        "def get_final_intent(pred, classes):\n",
        "\n",
        "  predictions = pred[0]\n",
        " \n",
        "  classes = np.array(classes)\n",
        "  ids = np.argsort(-predictions)\n",
        "  classes = classes[ids]\n",
        "  predictions = -np.sort(-predictions)\n",
        "  score=0\n",
        "  max=0\n",
        "  for i in range(pred.shape[1]):\n",
        "    #print()\n",
        "\n",
        "    if predictions[i]>max:\n",
        "      max=predictions[i]\n",
        "      score=i\n",
        "\n",
        "  return classes[score],predictions[score]\n",
        "  \n",
        "    \n",
        "    #print(\"%s has confidence score : %s\" % (classes[i], (predictions[i])))\n",
        "    #print()\n",
        "  \n",
        "  #print('Intent : ',classes[score])\n",
        "  #print('Confidence Score :',predictions[score])\n",
        "  #print()\n",
        "  #print()\n",
        "  #return classes[score]\n"
      ],
      "execution_count": 74,
      "outputs": []
    },
    {
      "cell_type": "markdown",
      "metadata": {
        "id": "VsLKRGSNK0B6"
      },
      "source": [
        "***TRUE-POSITIVE RATE EVALUATION***"
      ]
    },
    {
      "cell_type": "code",
      "metadata": {
        "colab": {
          "base_uri": "https://localhost:8080/"
        },
        "id": "bqMCAudK985J",
        "outputId": "2a73ce66-c182-4dd0-e92c-221417d347f3"
      },
      "source": [
        "#TruePositive Rate on testData_ATIS\n",
        "\n",
        "dfs=pd.read_csv('testDataInCSV.csv')\n",
        "tp=0\n",
        "for i in range(0,len(dfs)):\n",
        "  utterance=dfs._get_value(i,'Sentence')\n",
        "  pred=predictions(utterance)\n",
        "  x=get_final_intent(pred,unique_intent)\n",
        "  label=dfs._get_value(i,'Intent')\n",
        "  if x==label:\n",
        "    tp=tp+1\n",
        "\n",
        "print('Number of True Positives :',tp)\n",
        "tpr=(tp)/(len(dfs))\n",
        "print('True Positive Rate:',tpr)\n",
        "  \n"
      ],
      "execution_count": 72,
      "outputs": [
        {
          "output_type": "stream",
          "text": [
            "Number of True Positives : 791\n",
            "True Positive Rate: 0.8857782754759238\n"
          ],
          "name": "stdout"
        }
      ]
    },
    {
      "cell_type": "code",
      "metadata": {
        "colab": {
          "base_uri": "https://localhost:8080/",
          "height": 359
        },
        "id": "XjZ5vnFJJU6H",
        "outputId": "8957beb3-31c9-4f1f-b7f5-96130234939a"
      },
      "source": [
        "dfs.head(10)"
      ],
      "execution_count": 79,
      "outputs": [
        {
          "output_type": "execute_result",
          "data": {
            "text/html": [
              "<div>\n",
              "<style scoped>\n",
              "    .dataframe tbody tr th:only-of-type {\n",
              "        vertical-align: middle;\n",
              "    }\n",
              "\n",
              "    .dataframe tbody tr th {\n",
              "        vertical-align: top;\n",
              "    }\n",
              "\n",
              "    .dataframe thead th {\n",
              "        text-align: right;\n",
              "    }\n",
              "</style>\n",
              "<table border=\"1\" class=\"dataframe\">\n",
              "  <thead>\n",
              "    <tr style=\"text-align: right;\">\n",
              "      <th></th>\n",
              "      <th>Index No.</th>\n",
              "      <th>Intent</th>\n",
              "      <th>Sentence</th>\n",
              "    </tr>\n",
              "  </thead>\n",
              "  <tbody>\n",
              "    <tr>\n",
              "      <th>0</th>\n",
              "      <td>0</td>\n",
              "      <td>atis_flight</td>\n",
              "      <td>i would like to find a flight from charlotte t...</td>\n",
              "    </tr>\n",
              "    <tr>\n",
              "      <th>1</th>\n",
              "      <td>1</td>\n",
              "      <td>atis_airfare</td>\n",
              "      <td>on april first i need a ticket from tacoma to ...</td>\n",
              "    </tr>\n",
              "    <tr>\n",
              "      <th>2</th>\n",
              "      <td>2</td>\n",
              "      <td>atis_flight</td>\n",
              "      <td>on april first i need a flight going from phoe...</td>\n",
              "    </tr>\n",
              "    <tr>\n",
              "      <th>3</th>\n",
              "      <td>3</td>\n",
              "      <td>atis_flight</td>\n",
              "      <td>i would like a flight traveling one way from p...</td>\n",
              "    </tr>\n",
              "    <tr>\n",
              "      <th>4</th>\n",
              "      <td>4</td>\n",
              "      <td>atis_flight</td>\n",
              "      <td>i would like a flight from orlando to salt lak...</td>\n",
              "    </tr>\n",
              "    <tr>\n",
              "      <th>5</th>\n",
              "      <td>5</td>\n",
              "      <td>atis_flight</td>\n",
              "      <td>i need a flight from toronto to newark one way...</td>\n",
              "    </tr>\n",
              "    <tr>\n",
              "      <th>6</th>\n",
              "      <td>6</td>\n",
              "      <td>atis_flight</td>\n",
              "      <td>monday morning i would like to fly from columb...</td>\n",
              "    </tr>\n",
              "    <tr>\n",
              "      <th>7</th>\n",
              "      <td>7</td>\n",
              "      <td>atis_flight</td>\n",
              "      <td>on wednesday april sixth i would like to fly f...</td>\n",
              "    </tr>\n",
              "    <tr>\n",
              "      <th>8</th>\n",
              "      <td>8</td>\n",
              "      <td>atis_flight</td>\n",
              "      <td>after 12 pm on wednesday april sixth i would l...</td>\n",
              "    </tr>\n",
              "    <tr>\n",
              "      <th>9</th>\n",
              "      <td>9</td>\n",
              "      <td>atis_flight</td>\n",
              "      <td>are there any flights from long beach to colum...</td>\n",
              "    </tr>\n",
              "  </tbody>\n",
              "</table>\n",
              "</div>"
            ],
            "text/plain": [
              "   Index No.        Intent                                           Sentence\n",
              "0          0   atis_flight  i would like to find a flight from charlotte t...\n",
              "1          1  atis_airfare  on april first i need a ticket from tacoma to ...\n",
              "2          2   atis_flight  on april first i need a flight going from phoe...\n",
              "3          3   atis_flight  i would like a flight traveling one way from p...\n",
              "4          4   atis_flight  i would like a flight from orlando to salt lak...\n",
              "5          5   atis_flight  i need a flight from toronto to newark one way...\n",
              "6          6   atis_flight  monday morning i would like to fly from columb...\n",
              "7          7   atis_flight  on wednesday april sixth i would like to fly f...\n",
              "8          8   atis_flight  after 12 pm on wednesday april sixth i would l...\n",
              "9          9   atis_flight  are there any flights from long beach to colum..."
            ]
          },
          "metadata": {
            "tags": []
          },
          "execution_count": 79
        }
      ]
    },
    {
      "cell_type": "markdown",
      "metadata": {
        "id": "nHM4uWwVKtS7"
      },
      "source": [
        "***PREDICTING THE INTENT CLASS***"
      ]
    },
    {
      "cell_type": "code",
      "metadata": {
        "colab": {
          "base_uri": "https://localhost:8080/"
        },
        "id": "P7eInlJrK8mZ",
        "outputId": "76b47203-a535-4117-9cb5-b5c73b202670"
      },
      "source": [
        "query='how much does it cost for a single person to travel from chennai to mumbai'\n",
        "pred = predictions(query)\n",
        "class_name,conf_score=get_final_intent(pred, unique_intent)\n",
        "\n",
        "print(query)\n",
        "print('Intent : ',class_name)\n",
        "print('Confidence Score :',conf_score)\n",
        "\n"
      ],
      "execution_count": 75,
      "outputs": [
        {
          "output_type": "stream",
          "text": [
            "how much does it cost for a single person to travel from chennai to mumbai\n",
            "Intent :  atis_airfare\n",
            "Confidence Score : 0.9999945\n"
          ],
          "name": "stdout"
        }
      ]
    },
    {
      "cell_type": "code",
      "metadata": {
        "colab": {
          "base_uri": "https://localhost:8080/"
        },
        "id": "8PUZ2BXaki_n",
        "outputId": "b11f1a19-c818-487b-be7d-01e78a7d5b70"
      },
      "source": [
        "query='show me the flights available at the new delhi ariport on thursday'\n",
        "pred = predictions(query)\n",
        "class_name,conf_score=get_final_intent(pred, unique_intent)\n",
        "\n",
        "print(query)\n",
        "print('Intent : ',class_name)\n",
        "print('Confidence Score :',conf_score)\n",
        "\n"
      ],
      "execution_count": 77,
      "outputs": [
        {
          "output_type": "stream",
          "text": [
            "show me the flights available at the new delhi ariport on thursday\n",
            "Intent :  atis_flight\n",
            "Confidence Score : 0.99999416\n"
          ],
          "name": "stdout"
        }
      ]
    },
    {
      "cell_type": "code",
      "metadata": {
        "colab": {
          "base_uri": "https://localhost:8080/"
        },
        "id": "fHqrF1xTHwqU",
        "outputId": "3acd8f61-528e-4180-d70b-93dc5ef040f8"
      },
      "source": [
        "query='what is the abbreviation of abn'\n",
        "pred=predictions(query)\n",
        "class_name,conf_score=get_final_intent(pred,unique_intent)\n",
        "\n",
        "print(query)\n",
        "print('Intent : ',class_name)\n",
        "print('Confidence Score :',conf_score)\n",
        "\n"
      ],
      "execution_count": 78,
      "outputs": [
        {
          "output_type": "stream",
          "text": [
            "what is the abbreviation of abn\n",
            "Intent :  atis_abbreviation\n",
            "Confidence Score : 0.9410036\n"
          ],
          "name": "stdout"
        }
      ]
    },
    {
      "cell_type": "markdown",
      "metadata": {
        "id": "IOjl0LxzKbZ_"
      },
      "source": [
        "***TRAINING AND VALIDATION ACCURACY GRAPH PLOTS***"
      ]
    },
    {
      "cell_type": "code",
      "metadata": {
        "id": "uETDXV8BTSzA",
        "colab": {
          "base_uri": "https://localhost:8080/",
          "height": 295
        },
        "outputId": "982a423b-d466-4d2c-b424-036a8d3a5651"
      },
      "source": [
        "plt.plot(hist.history['accuracy'])\n",
        "plt.plot(hist.history['val_accuracy'])\n",
        "plt.title('Training and Validation Accuracy')\n",
        "plt.ylabel('accuracy')\n",
        "plt.xlabel('epoch')\n",
        "plt.legend(['train', 'valid'], loc='upper left')\n",
        "plt.show()\n",
        "\n"
      ],
      "execution_count": null,
      "outputs": [
        {
          "output_type": "display_data",
          "data": {
            "image/png": "[encoded data removed]",
            "text/plain": [
              "<Figure size 432x288 with 1 Axes>"
            ]
          },
          "metadata": {
            "tags": [],
            "needs_background": "light"
          }
        }
      ]
    },
    {
      "cell_type": "markdown",
      "metadata": {
        "id": "uNYK5wklKm_s"
      },
      "source": [
        "***TRAINING AND VALIDATION LOSS GRAPH PLOTS***"
      ]
    },
    {
      "cell_type": "code",
      "metadata": {
        "colab": {
          "base_uri": "https://localhost:8080/",
          "height": 295
        },
        "id": "CtgGiSSeUxOt",
        "outputId": "0b292b30-bf28-4247-d08e-0878ca98e02f"
      },
      "source": [
        "plt.plot(hist.history['loss'])\n",
        "plt.plot(hist.history['val_loss'])\n",
        "plt.title('Training and Validation Loss')\n",
        "plt.ylabel('loss')\n",
        "plt.xlabel('epoch')\n",
        "plt.legend(['train', 'valid'], loc='upper left')\n",
        "plt.show()"
      ],
      "execution_count": null,
      "outputs": [
        {
          "output_type": "display_data",
          "data": {
            "image/png": "[encoded data removed]",
            "text/plain": [
              "<Figure size 432x288 with 1 Axes>"
            ]
          },
          "metadata": {
            "tags": [],
            "needs_background": "light"
          }
        }
      ]
    }
  ]
}