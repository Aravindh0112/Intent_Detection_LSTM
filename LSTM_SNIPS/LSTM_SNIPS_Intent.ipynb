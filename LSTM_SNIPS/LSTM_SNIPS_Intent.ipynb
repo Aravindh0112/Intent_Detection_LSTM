{
  "nbformat": 4,
  "nbformat_minor": 0,
  "metadata": {
    "colab": {
      "name": "LSTM_SNIPS_Intent.ipynb",
      "provenance": []
    },
    "kernelspec": {
      "name": "python3",
      "display_name": "Python 3"
    },
    "language_info": {
      "name": "python"
    }
  },
  "cells": [
    {
      "cell_type": "code",
      "metadata": {
        "id": "0Oa6Ct6Bi8rt"
      },
      "source": [
        "pip freeze > requirements.txt"
      ],
      "execution_count": null,
      "outputs": []
    },
    {
      "cell_type": "code",
      "metadata": {
        "id": "vy0hqDnFEW2v"
      },
      "source": [
        "import pandas as pd\n",
        "from nltk.corpus import stopwords\n",
        "from nltk.tokenize import word_tokenize\n",
        "from nltk.stem.lancaster import LancasterStemmer\n",
        "import nltk\n",
        "import re\n",
        "from sklearn.preprocessing import OneHotEncoder\n",
        "import matplotlib.pyplot as plt\n",
        "from keras.preprocessing.text import Tokenizer\n",
        "from keras.preprocessing.sequence import pad_sequences\n",
        "from keras.utils import to_categorical\n",
        "from keras.models import Sequential, load_model\n",
        "from keras.layers import Dense, LSTM, Bidirectional, Embedding, Dropout\n",
        "from keras.callbacks import ModelCheckpoint"
      ],
      "execution_count": null,
      "outputs": []
    },
    {
      "cell_type": "code",
      "metadata": {
        "id": "0zaNt-5AYfHy"
      },
      "source": [
        "li = []\n",
        "all_files=['trainDataInCSV.csv','validDataInCSV.csv']\n",
        "for filename in all_files:\n",
        "\n",
        "    df = pd.read_csv(filename, index_col=None, header=0)\n",
        "\n",
        "    li.append(df)\n",
        "\n",
        "dfs=pd.concat(li, axis=0, ignore_index=True)"
      ],
      "execution_count": null,
      "outputs": []
    },
    {
      "cell_type": "code",
      "metadata": {
        "colab": {
          "base_uri": "https://localhost:8080/",
          "height": 359
        },
        "id": "F7JonmqRZMHF",
        "outputId": "a3af4fbb-c001-4086-bee4-d861ca2a5f85"
      },
      "source": [
        "dfs.head(10)"
      ],
      "execution_count": null,
      "outputs": [
        {
          "output_type": "execute_result",
          "data": {
            "text/html": [
              "<div>\n",
              "<style scoped>\n",
              "    .dataframe tbody tr th:only-of-type {\n",
              "        vertical-align: middle;\n",
              "    }\n",
              "\n",
              "    .dataframe tbody tr th {\n",
              "        vertical-align: top;\n",
              "    }\n",
              "\n",
              "    .dataframe thead th {\n",
              "        text-align: right;\n",
              "    }\n",
              "</style>\n",
              "<table border=\"1\" class=\"dataframe\">\n",
              "  <thead>\n",
              "    <tr style=\"text-align: right;\">\n",
              "      <th></th>\n",
              "      <th>Index No.</th>\n",
              "      <th>Intent</th>\n",
              "      <th>Sentence</th>\n",
              "    </tr>\n",
              "  </thead>\n",
              "  <tbody>\n",
              "    <tr>\n",
              "      <th>0</th>\n",
              "      <td>0</td>\n",
              "      <td>AddToPlaylist</td>\n",
              "      <td>Add Don and Sherri to my Meditate to Sounds of...</td>\n",
              "    </tr>\n",
              "    <tr>\n",
              "      <th>1</th>\n",
              "      <td>1</td>\n",
              "      <td>AddToPlaylist</td>\n",
              "      <td>put United Abominations onto my rare groove pl...</td>\n",
              "    </tr>\n",
              "    <tr>\n",
              "      <th>2</th>\n",
              "      <td>2</td>\n",
              "      <td>AddToPlaylist</td>\n",
              "      <td>add the tune by misato watanabe to the Trapeo ...</td>\n",
              "    </tr>\n",
              "    <tr>\n",
              "      <th>3</th>\n",
              "      <td>3</td>\n",
              "      <td>AddToPlaylist</td>\n",
              "      <td>add this artist to my this is miguel bosé play...</td>\n",
              "    </tr>\n",
              "    <tr>\n",
              "      <th>4</th>\n",
              "      <td>4</td>\n",
              "      <td>AddToPlaylist</td>\n",
              "      <td>add heresy and the hotel choir to the evening ...</td>\n",
              "    </tr>\n",
              "    <tr>\n",
              "      <th>5</th>\n",
              "      <td>5</td>\n",
              "      <td>AddToPlaylist</td>\n",
              "      <td>Please add Jency Anthony to my playlist This I...</td>\n",
              "    </tr>\n",
              "    <tr>\n",
              "      <th>6</th>\n",
              "      <td>6</td>\n",
              "      <td>AddToPlaylist</td>\n",
              "      <td>Add an album to my list La Mejor Música Dance ...</td>\n",
              "    </tr>\n",
              "    <tr>\n",
              "      <th>7</th>\n",
              "      <td>7</td>\n",
              "      <td>AddToPlaylist</td>\n",
              "      <td>Add shame on you to my masters of metal playlist</td>\n",
              "    </tr>\n",
              "    <tr>\n",
              "      <th>8</th>\n",
              "      <td>8</td>\n",
              "      <td>AddToPlaylist</td>\n",
              "      <td>Add artist to playlist Epic Gaming</td>\n",
              "    </tr>\n",
              "    <tr>\n",
              "      <th>9</th>\n",
              "      <td>9</td>\n",
              "      <td>AddToPlaylist</td>\n",
              "      <td>Add The Private Collection onto my Cena Elegan...</td>\n",
              "    </tr>\n",
              "  </tbody>\n",
              "</table>\n",
              "</div>"
            ],
            "text/plain": [
              "   Index No.         Intent                                           Sentence\n",
              "0          0  AddToPlaylist  Add Don and Sherri to my Meditate to Sounds of...\n",
              "1          1  AddToPlaylist  put United Abominations onto my rare groove pl...\n",
              "2          2  AddToPlaylist  add the tune by misato watanabe to the Trapeo ...\n",
              "3          3  AddToPlaylist  add this artist to my this is miguel bosé play...\n",
              "4          4  AddToPlaylist  add heresy and the hotel choir to the evening ...\n",
              "5          5  AddToPlaylist  Please add Jency Anthony to my playlist This I...\n",
              "6          6  AddToPlaylist  Add an album to my list La Mejor Música Dance ...\n",
              "7          7  AddToPlaylist   Add shame on you to my masters of metal playlist\n",
              "8          8  AddToPlaylist                 Add artist to playlist Epic Gaming\n",
              "9          9  AddToPlaylist  Add The Private Collection onto my Cena Elegan..."
            ]
          },
          "metadata": {
            "tags": []
          },
          "execution_count": 3
        }
      ]
    },
    {
      "cell_type": "code",
      "metadata": {
        "id": "AgkrcGjxZnVT"
      },
      "source": [
        "intent=dfs['Intent']\n",
        "unique_intent=list(set(intent))\n",
        "sentences=list(dfs['Sentence'])\n"
      ],
      "execution_count": null,
      "outputs": []
    },
    {
      "cell_type": "code",
      "metadata": {
        "colab": {
          "base_uri": "https://localhost:8080/"
        },
        "id": "hs-lqO4arZN8",
        "outputId": "900d41c7-80ad-45b1-ed12-8eecb13da7c6"
      },
      "source": [
        "print(len(dfs))"
      ],
      "execution_count": null,
      "outputs": [
        {
          "output_type": "stream",
          "text": [
            "13784\n"
          ],
          "name": "stdout"
        }
      ]
    },
    {
      "cell_type": "code",
      "metadata": {
        "colab": {
          "base_uri": "https://localhost:8080/"
        },
        "id": "_TqiKKueZ4vd",
        "outputId": "77b271e0-c542-4588-be3b-180216e36d55"
      },
      "source": [
        "print(unique_intent)"
      ],
      "execution_count": null,
      "outputs": [
        {
          "output_type": "stream",
          "text": [
            "['PlayMusic', 'RateBook', 'GetWeather', 'BookRestaurant', 'SearchCreativeWork', 'AddToPlaylist', 'SearchScreeningEvent']\n"
          ],
          "name": "stdout"
        }
      ]
    },
    {
      "cell_type": "code",
      "metadata": {
        "colab": {
          "base_uri": "https://localhost:8080/"
        },
        "id": "PNtXNDB9FRVo",
        "outputId": "c702c76a-a449-4bad-e84b-4092ee61bd81"
      },
      "source": [
        "print(sentences[:5])"
      ],
      "execution_count": null,
      "outputs": [
        {
          "output_type": "stream",
          "text": [
            "['Add Don and Sherri to my Meditate to Sounds of Nature playlist', 'put United Abominations onto my rare groove playlist', 'add the tune by misato watanabe to the Trapeo playlist', 'add this artist to my this is miguel bosé playlist', 'add heresy and the hotel choir to the evening acoustic playlist']\n"
          ],
          "name": "stdout"
        }
      ]
    },
    {
      "cell_type": "markdown",
      "metadata": {
        "id": "QCIZ7lqgJ5rS"
      },
      "source": [
        "***PREPROCESSING***"
      ]
    },
    {
      "cell_type": "code",
      "metadata": {
        "colab": {
          "base_uri": "https://localhost:8080/"
        },
        "id": "r7h1jSRkFqcI",
        "outputId": "9abaa30a-1812-40d5-ec3f-09827c284d90"
      },
      "source": [
        "nltk.download(\"stopwords\")\n",
        "nltk.download(\"punkt\")"
      ],
      "execution_count": null,
      "outputs": [
        {
          "output_type": "stream",
          "text": [
            "[nltk_data] Downloading package stopwords to /root/nltk_data...\n",
            "[nltk_data]   Unzipping corpora/stopwords.zip.\n",
            "[nltk_data] Downloading package punkt to /root/nltk_data...\n",
            "[nltk_data]   Unzipping tokenizers/punkt.zip.\n"
          ],
          "name": "stdout"
        },
        {
          "output_type": "execute_result",
          "data": {
            "text/plain": [
              "True"
            ]
          },
          "metadata": {
            "tags": []
          },
          "execution_count": 8
        }
      ]
    },
    {
      "cell_type": "code",
      "metadata": {
        "id": "7hNueP1uFuKH"
      },
      "source": [
        "stemmer = LancasterStemmer()"
      ],
      "execution_count": null,
      "outputs": []
    },
    {
      "cell_type": "code",
      "metadata": {
        "id": "zl0T7g7kFvso"
      },
      "source": [
        "def cleaning(sentences):\n",
        "  words = []\n",
        "  for s in sentences:\n",
        "    clean = re.sub(r'[^ a-z A-Z 0-9]', \" \", s)\n",
        "    w = word_tokenize(clean)\n",
        "    #stemming\n",
        "    words.append([i.lower() for i in w])\n",
        "    \n",
        "  return words"
      ],
      "execution_count": null,
      "outputs": []
    },
    {
      "cell_type": "code",
      "metadata": {
        "colab": {
          "base_uri": "https://localhost:8080/"
        },
        "id": "73MVWXhPFyOo",
        "outputId": "337dba69-39f2-423b-e69c-46962974de3a"
      },
      "source": [
        "cleaned_words = cleaning(sentences)\n",
        "print(len(cleaned_words))\n",
        "print(cleaned_words[:2])"
      ],
      "execution_count": null,
      "outputs": [
        {
          "output_type": "stream",
          "text": [
            "13784\n",
            "[['add', 'don', 'and', 'sherri', 'to', 'my', 'meditate', 'to', 'sounds', 'of', 'nature', 'playlist'], ['put', 'united', 'abominations', 'onto', 'my', 'rare', 'groove', 'playlist']]\n"
          ],
          "name": "stdout"
        }
      ]
    },
    {
      "cell_type": "code",
      "metadata": {
        "id": "57nMyTEhF3zH"
      },
      "source": [
        "def create_tokenizer(words, filters = '!\"#$%&()*+,-./:;<=>?@[\\]^_`{|}~'):\n",
        "  token = Tokenizer(filters = filters)\n",
        "  token.fit_on_texts(words)\n",
        "  return token"
      ],
      "execution_count": null,
      "outputs": []
    },
    {
      "cell_type": "code",
      "metadata": {
        "id": "GBb_y422F7kY"
      },
      "source": [
        "def max_length(words):\n",
        "  return(len(max(words, key = len)))"
      ],
      "execution_count": null,
      "outputs": []
    },
    {
      "cell_type": "code",
      "metadata": {
        "colab": {
          "base_uri": "https://localhost:8080/"
        },
        "id": "YDWyTYCIF_Zr",
        "outputId": "5c14c0d0-3d76-469d-ec2e-03fa272190b7"
      },
      "source": [
        "word_tokenizer = create_tokenizer(cleaned_words)\n",
        "vocab_size = len(word_tokenizer.word_index) + 1\n",
        "max_length = max_length(cleaned_words)\n",
        "\n",
        "print(\"Vocab Size = %d and Maximum length = %d\" % (vocab_size, max_length))"
      ],
      "execution_count": null,
      "outputs": [
        {
          "output_type": "stream",
          "text": [
            "Vocab Size = 11409 and Maximum length = 35\n"
          ],
          "name": "stdout"
        }
      ]
    },
    {
      "cell_type": "code",
      "metadata": {
        "id": "GwEy6EapGBrL"
      },
      "source": [
        "def encoding_doc(token, words):\n",
        "  return(token.texts_to_sequences(words))"
      ],
      "execution_count": null,
      "outputs": []
    },
    {
      "cell_type": "code",
      "metadata": {
        "id": "-JsXBBZDGD-K"
      },
      "source": [
        "encoded_doc = encoding_doc(word_tokenizer, cleaned_words)"
      ],
      "execution_count": null,
      "outputs": []
    },
    {
      "cell_type": "code",
      "metadata": {
        "id": "EjForAOSGF_T"
      },
      "source": [
        "def padding_doc(encoded_doc, max_length):\n",
        "  return(pad_sequences(encoded_doc, maxlen = max_length, padding = \"post\"))"
      ],
      "execution_count": null,
      "outputs": []
    },
    {
      "cell_type": "code",
      "metadata": {
        "id": "MNBzX2ubGIVc"
      },
      "source": [
        "\n",
        "padded_doc = padding_doc(encoded_doc, max_length)"
      ],
      "execution_count": null,
      "outputs": []
    },
    {
      "cell_type": "code",
      "metadata": {
        "colab": {
          "base_uri": "https://localhost:8080/"
        },
        "id": "HqcCZqdiGKVJ",
        "outputId": "3b19b776-21f9-442c-8337-1f1f0672266d"
      },
      "source": [
        "padded_doc[:5]"
      ],
      "execution_count": null,
      "outputs": [
        {
          "output_type": "execute_result",
          "data": {
            "text/plain": [
              "array([[  12,  556,   24, 2234,    4,   15, 2980,    4, 1161,    6,  360,\n",
              "          16,    0,    0,    0,    0,    0,    0,    0,    0,    0,    0,\n",
              "           0,    0,    0,    0,    0,    0,    0,    0,    0,    0,    0,\n",
              "           0,    0],\n",
              "       [  74,  418, 4604,  149,   15, 1509,  180,   16,    0,    0,    0,\n",
              "           0,    0,    0,    0,    0,    0,    0,    0,    0,    0,    0,\n",
              "           0,    0,    0,    0,    0,    0,    0,    0,    0,    0,    0,\n",
              "           0,    0],\n",
              "       [  12,    1,   77,   26, 4605, 4606,    4,    1, 1792,   16,    0,\n",
              "           0,    0,    0,    0,    0,    0,    0,    0,    0,    0,    0,\n",
              "           0,    0,    0,    0,    0,    0,    0,    0,    0,    0,    0,\n",
              "           0,    0],\n",
              "       [  12,   19,   95,    4,   15,   19,   10, 4607, 4608,   16,    0,\n",
              "           0,    0,    0,    0,    0,    0,    0,    0,    0,    0,    0,\n",
              "           0,    0,    0,    0,    0,    0,    0,    0,    0,    0,    0,\n",
              "           0,    0],\n",
              "       [  12, 4609,   24,    1,  419, 4610,    4,    1,  347,  368,   16,\n",
              "           0,    0,    0,    0,    0,    0,    0,    0,    0,    0,    0,\n",
              "           0,    0,    0,    0,    0,    0,    0,    0,    0,    0,    0,\n",
              "           0,    0]], dtype=int32)"
            ]
          },
          "metadata": {
            "tags": []
          },
          "execution_count": 19
        }
      ]
    },
    {
      "cell_type": "code",
      "metadata": {
        "colab": {
          "base_uri": "https://localhost:8080/"
        },
        "id": "Jb_dbbJNGMye",
        "outputId": "bcddadc5-01c1-4a1e-9151-35cde3c15bcb"
      },
      "source": [
        "\n",
        "print(\"Shape of padded docs = \",padded_doc.shape)"
      ],
      "execution_count": null,
      "outputs": [
        {
          "output_type": "stream",
          "text": [
            "Shape of padded docs =  (13784, 35)\n"
          ],
          "name": "stdout"
        }
      ]
    },
    {
      "cell_type": "code",
      "metadata": {
        "id": "a38Cb9xwGPDM"
      },
      "source": [
        "output_tokenizer = create_tokenizer(unique_intent, filters = '!\"#$%&()*+,-/:;<=>?@[\\]^`{|}~')"
      ],
      "execution_count": null,
      "outputs": []
    },
    {
      "cell_type": "code",
      "metadata": {
        "colab": {
          "base_uri": "https://localhost:8080/"
        },
        "id": "BECn_xrXGTvf",
        "outputId": "d8a78257-1524-46d7-c0d7-14fd98235d4d"
      },
      "source": [
        "output_tokenizer.word_index"
      ],
      "execution_count": null,
      "outputs": [
        {
          "output_type": "execute_result",
          "data": {
            "text/plain": [
              "{'addtoplaylist': 6,\n",
              " 'bookrestaurant': 4,\n",
              " 'getweather': 3,\n",
              " 'playmusic': 1,\n",
              " 'ratebook': 2,\n",
              " 'searchcreativework': 5,\n",
              " 'searchscreeningevent': 7}"
            ]
          },
          "metadata": {
            "tags": []
          },
          "execution_count": 22
        }
      ]
    },
    {
      "cell_type": "code",
      "metadata": {
        "id": "-ZWiIo9yGXrU"
      },
      "source": [
        "encoded_output = encoding_doc(output_tokenizer, intent)"
      ],
      "execution_count": null,
      "outputs": []
    },
    {
      "cell_type": "code",
      "metadata": {
        "id": "5uIxn-7PGaix"
      },
      "source": [
        "import numpy as np\n",
        "encoded_output = np.array(encoded_output).reshape(len(encoded_output), 1)"
      ],
      "execution_count": null,
      "outputs": []
    },
    {
      "cell_type": "code",
      "metadata": {
        "colab": {
          "base_uri": "https://localhost:8080/"
        },
        "id": "gGTkMSu9Gh5D",
        "outputId": "451c947a-de8c-40ab-8a92-820785b28678"
      },
      "source": [
        "encoded_output.shape"
      ],
      "execution_count": null,
      "outputs": [
        {
          "output_type": "execute_result",
          "data": {
            "text/plain": [
              "(13784, 1)"
            ]
          },
          "metadata": {
            "tags": []
          },
          "execution_count": 25
        }
      ]
    },
    {
      "cell_type": "markdown",
      "metadata": {
        "id": "O7K4zUI0KBsL"
      },
      "source": [
        "***ONE HOT ENCODING***"
      ]
    },
    {
      "cell_type": "code",
      "metadata": {
        "id": "j3t8ttWYGkDd"
      },
      "source": [
        "def one_hot(encode):\n",
        "  o = OneHotEncoder(sparse = False)\n",
        "  return(o.fit_transform(encode))"
      ],
      "execution_count": null,
      "outputs": []
    },
    {
      "cell_type": "code",
      "metadata": {
        "id": "E120hSugGlro"
      },
      "source": [
        "output_one_hot = one_hot(encoded_output)"
      ],
      "execution_count": null,
      "outputs": []
    },
    {
      "cell_type": "code",
      "metadata": {
        "colab": {
          "base_uri": "https://localhost:8080/"
        },
        "id": "EyeP22QLGo1t",
        "outputId": "bfdd361b-56c4-4c9d-a01a-eeae1157c718"
      },
      "source": [
        "output_one_hot.shape"
      ],
      "execution_count": null,
      "outputs": [
        {
          "output_type": "execute_result",
          "data": {
            "text/plain": [
              "(13784, 7)"
            ]
          },
          "metadata": {
            "tags": []
          },
          "execution_count": 28
        }
      ]
    },
    {
      "cell_type": "code",
      "metadata": {
        "id": "4jcortraGray"
      },
      "source": [
        "from sklearn.model_selection import train_test_split\n"
      ],
      "execution_count": null,
      "outputs": []
    },
    {
      "cell_type": "code",
      "metadata": {
        "id": "qpDgLswlG_Xd"
      },
      "source": [
        "from sklearn.model_selection import train_test_split\n",
        "train_X, val_X, train_Y, val_Y = train_test_split(padded_doc, output_one_hot, shuffle = True, test_size = 0.2)"
      ],
      "execution_count": null,
      "outputs": []
    },
    {
      "cell_type": "code",
      "metadata": {
        "colab": {
          "base_uri": "https://localhost:8080/"
        },
        "id": "XrK3vM5uHCbH",
        "outputId": "2bb3da3f-09f9-4ad5-f521-54df590d220c"
      },
      "source": [
        "print(\"Shape of train_X = %s and train_Y = %s\" % (train_X.shape, train_Y.shape))\n",
        "print(\"Shape of val_X = %s and val_Y = %s\" % (val_X.shape, val_Y.shape))"
      ],
      "execution_count": null,
      "outputs": [
        {
          "output_type": "stream",
          "text": [
            "Shape of train_X = (11027, 35) and train_Y = (11027, 7)\n",
            "Shape of val_X = (2757, 35) and val_Y = (2757, 7)\n"
          ],
          "name": "stdout"
        }
      ]
    },
    {
      "cell_type": "markdown",
      "metadata": {
        "id": "t6GWZMWFKTX-"
      },
      "source": [
        "***LSTM MODEL CREATION***"
      ]
    },
    {
      "cell_type": "code",
      "metadata": {
        "id": "fkRkxcMpHJ7d"
      },
      "source": [
        "def create_model(vocab_size, max_length):\n",
        "  model = Sequential()\n",
        "  model.add(Embedding(vocab_size, 128, input_length = max_length, trainable = False))\n",
        "  model.add(Bidirectional(LSTM(128)))\n",
        "#   model.add(LSTM(128))\n",
        "  model.add(Dense(32, activation = \"relu\"))\n",
        "  model.add(Dropout(0.5))\n",
        "  model.add(Dense(7, activation = \"softmax\"))\n",
        "  \n",
        "  return model"
      ],
      "execution_count": null,
      "outputs": []
    },
    {
      "cell_type": "code",
      "metadata": {
        "colab": {
          "base_uri": "https://localhost:8080/"
        },
        "id": "qWeOKNfCHMeS",
        "outputId": "7af93235-cbd9-44da-e56b-37428a852a41"
      },
      "source": [
        "model = create_model(vocab_size, max_length)\n",
        "\n",
        "model.compile(loss = \"categorical_crossentropy\", optimizer = \"adam\", metrics = [\"accuracy\"])\n",
        "model.summary()"
      ],
      "execution_count": null,
      "outputs": [
        {
          "output_type": "stream",
          "text": [
            "Model: \"sequential\"\n",
            "_________________________________________________________________\n",
            "Layer (type)                 Output Shape              Param #   \n",
            "=================================================================\n",
            "embedding (Embedding)        (None, 35, 128)           1460352   \n",
            "_________________________________________________________________\n",
            "bidirectional (Bidirectional (None, 256)               263168    \n",
            "_________________________________________________________________\n",
            "dense (Dense)                (None, 32)                8224      \n",
            "_________________________________________________________________\n",
            "dropout (Dropout)            (None, 32)                0         \n",
            "_________________________________________________________________\n",
            "dense_1 (Dense)              (None, 7)                 231       \n",
            "=================================================================\n",
            "Total params: 1,731,975\n",
            "Trainable params: 271,623\n",
            "Non-trainable params: 1,460,352\n",
            "_________________________________________________________________\n"
          ],
          "name": "stdout"
        }
      ]
    },
    {
      "cell_type": "code",
      "metadata": {
        "colab": {
          "base_uri": "https://localhost:8080/"
        },
        "id": "auXYg2paHOx7",
        "outputId": "f7540d46-a6d2-44a0-922a-19ad09a5d61d"
      },
      "source": [
        "filename = 'model.h5'\n",
        "checkpoint = ModelCheckpoint(filename, monitor='val_loss', verbose=1, save_best_only=True, mode='min')\n",
        "\n",
        "hist = model.fit(train_X, train_Y, epochs =20, batch_size = 32, validation_data = (val_X, val_Y), callbacks = [checkpoint])"
      ],
      "execution_count": null,
      "outputs": [
        {
          "output_type": "stream",
          "text": [
            "Epoch 1/20\n",
            "345/345 [==============================] - 35s 89ms/step - loss: 1.6370 - accuracy: 0.3549 - val_loss: 0.6432 - val_accuracy: 0.7856\n",
            "\n",
            "Epoch 00001: val_loss improved from inf to 0.64319, saving model to model.h5\n",
            "Epoch 2/20\n",
            "345/345 [==============================] - 30s 88ms/step - loss: 0.6965 - accuracy: 0.7608 - val_loss: 0.3520 - val_accuracy: 0.8915\n",
            "\n",
            "Epoch 00002: val_loss improved from 0.64319 to 0.35204, saving model to model.h5\n",
            "Epoch 3/20\n",
            "345/345 [==============================] - 30s 87ms/step - loss: 0.4971 - accuracy: 0.8516 - val_loss: 0.2469 - val_accuracy: 0.9278\n",
            "\n",
            "Epoch 00003: val_loss improved from 0.35204 to 0.24693, saving model to model.h5\n",
            "Epoch 4/20\n",
            "345/345 [==============================] - 30s 86ms/step - loss: 0.3501 - accuracy: 0.8986 - val_loss: 0.2147 - val_accuracy: 0.9351\n",
            "\n",
            "Epoch 00004: val_loss improved from 0.24693 to 0.21467, saving model to model.h5\n",
            "Epoch 5/20\n",
            "345/345 [==============================] - 29s 86ms/step - loss: 0.2989 - accuracy: 0.9089 - val_loss: 0.1792 - val_accuracy: 0.9510\n",
            "\n",
            "Epoch 00005: val_loss improved from 0.21467 to 0.17924, saving model to model.h5\n",
            "Epoch 6/20\n",
            "345/345 [==============================] - 29s 85ms/step - loss: 0.2990 - accuracy: 0.9130 - val_loss: 0.1582 - val_accuracy: 0.9496\n",
            "\n",
            "Epoch 00006: val_loss improved from 0.17924 to 0.15822, saving model to model.h5\n",
            "Epoch 7/20\n",
            "345/345 [==============================] - 30s 87ms/step - loss: 0.2208 - accuracy: 0.9332 - val_loss: 0.1782 - val_accuracy: 0.9470\n",
            "\n",
            "Epoch 00007: val_loss did not improve from 0.15822\n",
            "Epoch 8/20\n",
            "345/345 [==============================] - 30s 86ms/step - loss: 0.2036 - accuracy: 0.9414 - val_loss: 0.1491 - val_accuracy: 0.9550\n",
            "\n",
            "Epoch 00008: val_loss improved from 0.15822 to 0.14909, saving model to model.h5\n",
            "Epoch 9/20\n",
            "345/345 [==============================] - 30s 87ms/step - loss: 0.1863 - accuracy: 0.9465 - val_loss: 0.1459 - val_accuracy: 0.9543\n",
            "\n",
            "Epoch 00009: val_loss improved from 0.14909 to 0.14588, saving model to model.h5\n",
            "Epoch 10/20\n",
            "345/345 [==============================] - 32s 93ms/step - loss: 0.1688 - accuracy: 0.9491 - val_loss: 0.1485 - val_accuracy: 0.9539\n",
            "\n",
            "Epoch 00010: val_loss did not improve from 0.14588\n",
            "Epoch 11/20\n",
            "345/345 [==============================] - 29s 84ms/step - loss: 0.1561 - accuracy: 0.9551 - val_loss: 0.2197 - val_accuracy: 0.9438\n",
            "\n",
            "Epoch 00011: val_loss did not improve from 0.14588\n",
            "Epoch 12/20\n",
            "345/345 [==============================] - 30s 87ms/step - loss: 0.1596 - accuracy: 0.9540 - val_loss: 0.1332 - val_accuracy: 0.9583\n",
            "\n",
            "Epoch 00012: val_loss improved from 0.14588 to 0.13324, saving model to model.h5\n",
            "Epoch 13/20\n",
            "345/345 [==============================] - 30s 87ms/step - loss: 0.1318 - accuracy: 0.9614 - val_loss: 0.1411 - val_accuracy: 0.9612\n",
            "\n",
            "Epoch 00013: val_loss did not improve from 0.13324\n",
            "Epoch 14/20\n",
            "345/345 [==============================] - 30s 87ms/step - loss: 0.1356 - accuracy: 0.9595 - val_loss: 0.1456 - val_accuracy: 0.9539\n",
            "\n",
            "Epoch 00014: val_loss did not improve from 0.13324\n",
            "Epoch 15/20\n",
            "345/345 [==============================] - 30s 87ms/step - loss: 0.1364 - accuracy: 0.9595 - val_loss: 0.1314 - val_accuracy: 0.9601\n",
            "\n",
            "Epoch 00015: val_loss improved from 0.13324 to 0.13143, saving model to model.h5\n",
            "Epoch 16/20\n",
            "345/345 [==============================] - 30s 86ms/step - loss: 0.1238 - accuracy: 0.9638 - val_loss: 0.1357 - val_accuracy: 0.9616\n",
            "\n",
            "Epoch 00016: val_loss did not improve from 0.13143\n",
            "Epoch 17/20\n",
            "345/345 [==============================] - 29s 84ms/step - loss: 0.1114 - accuracy: 0.9689 - val_loss: 0.1317 - val_accuracy: 0.9597\n",
            "\n",
            "Epoch 00017: val_loss did not improve from 0.13143\n",
            "Epoch 18/20\n",
            "345/345 [==============================] - 29s 84ms/step - loss: 0.1026 - accuracy: 0.9680 - val_loss: 0.1237 - val_accuracy: 0.9608\n",
            "\n",
            "Epoch 00018: val_loss improved from 0.13143 to 0.12373, saving model to model.h5\n",
            "Epoch 19/20\n",
            "345/345 [==============================] - 28s 83ms/step - loss: 0.1040 - accuracy: 0.9710 - val_loss: 0.1264 - val_accuracy: 0.9623\n",
            "\n",
            "Epoch 00019: val_loss did not improve from 0.12373\n",
            "Epoch 20/20\n",
            "345/345 [==============================] - 29s 84ms/step - loss: 0.0812 - accuracy: 0.9752 - val_loss: 0.3599 - val_accuracy: 0.9438\n",
            "\n",
            "Epoch 00020: val_loss did not improve from 0.12373\n"
          ],
          "name": "stdout"
        }
      ]
    },
    {
      "cell_type": "code",
      "metadata": {
        "id": "SUlb4lM4K3w-"
      },
      "source": [
        "model = load_model(\"model.h5\")"
      ],
      "execution_count": null,
      "outputs": []
    },
    {
      "cell_type": "code",
      "metadata": {
        "id": "WoX3vBHPK4U-"
      },
      "source": [
        "def predictions(text):\n",
        "  clean = re.sub(r'[^ a-z A-Z 0-9]', \" \", text)\n",
        "  test_word = word_tokenize(clean)\n",
        "  test_word = [w.lower() for w in test_word]\n",
        "  test_ls = word_tokenizer.texts_to_sequences(test_word)\n",
        "  #print(test_word)\n",
        "  #Check for unknown words\n",
        "  if [] in test_ls:\n",
        "    test_ls = list(filter(None, test_ls))\n",
        "    \n",
        "  test_ls = np.array(test_ls).reshape(1, len(test_ls))\n",
        " \n",
        "  x = padding_doc(test_ls, max_length)\n",
        "  \n",
        "  pred = model.predict(x)\n",
        "\n",
        "  return pred\n",
        "  \n",
        "  "
      ],
      "execution_count": null,
      "outputs": []
    },
    {
      "cell_type": "code",
      "metadata": {
        "id": "4MsSGpDzK6IN"
      },
      "source": [
        "def get_final_intent(pred, classes):\n",
        "\n",
        "  predictions = pred[0]\n",
        " \n",
        "  classes = np.array(classes)\n",
        "  ids = np.argsort(-predictions)\n",
        "  classes = classes[ids]\n",
        "  predictions = -np.sort(-predictions)\n",
        "  class_names=[]\n",
        "\n",
        "  for class_name in range(0,3):     #To get the top three class names in accordance to the confidence scores we have got.\n",
        "    class_names.append(classes[class_name])\n",
        "\n",
        "\n",
        "  return class_names\n",
        "\n",
        "\n",
        "  \n",
        "  #for i in range(pred.shape[1]):   #dehash the block of comment statements to see all the available intents along with their respective confidence scores for a given query.\n",
        "    #print()\n",
        "    #print(\"%s has confidence score : %s\" % (classes[i], (predictions[i])))\n",
        "    #print()\n",
        "\n",
        "\n",
        "\n",
        "    \n",
        "    \n",
        "  #return classes[0],predictions[0]  #dehash the comment statement to get the intent along with the confidence score.\n",
        "\n",
        "  #return classes[0]    #dehash the comment statement to  get the intent alone and it is used when running the true-positive rate evaluation code block.\n",
        "    \n",
        "            \n",
        "  "
      ],
      "execution_count": 85,
      "outputs": []
    },
    {
      "cell_type": "markdown",
      "metadata": {
        "id": "VsLKRGSNK0B6"
      },
      "source": [
        "***TRUE-POSITIVE RATE EVALUATION***"
      ]
    },
    {
      "cell_type": "code",
      "metadata": {
        "colab": {
          "base_uri": "https://localhost:8080/"
        },
        "id": "bqMCAudK985J",
        "outputId": "09cfc089-6385-41ff-f5ce-4b4e7ea1935a"
      },
      "source": [
        "#TruePositive Rate on testData_SNIPS\n",
        "\n",
        "dfs=pd.read_csv('testDataInCSV.csv')\n",
        "tp=0\n",
        "for i in range(0,len(dfs)):\n",
        "  utterance=dfs._get_value(i,'Sentence')\n",
        "  pred=predictions(utterance)\n",
        "  x=get_final_intent(pred,unique_intent)\n",
        "  label=dfs._get_value(i,'Intent')\n",
        "  if x==label:\n",
        "    tp=tp+1\n",
        "print('Number of True Positives :',tp)\n",
        "tpr=(tp)/(len(dfs))\n",
        "print('True Positive Rate:',tpr)\n",
        "  \n"
      ],
      "execution_count": null,
      "outputs": [
        {
          "output_type": "stream",
          "text": [
            "Number of True Positives : 672\n",
            "True Positive Rate: 0.96\n"
          ],
          "name": "stdout"
        }
      ]
    },
    {
      "cell_type": "code",
      "metadata": {
        "colab": {
          "base_uri": "https://localhost:8080/",
          "height": 359
        },
        "id": "XjZ5vnFJJU6H",
        "outputId": "a67da34e-6abe-4534-db81-337ab5dda37a"
      },
      "source": [
        "dfs.head(10)   #A view on the SNIPS test dataset."
      ],
      "execution_count": null,
      "outputs": [
        {
          "output_type": "execute_result",
          "data": {
            "text/html": [
              "<div>\n",
              "<style scoped>\n",
              "    .dataframe tbody tr th:only-of-type {\n",
              "        vertical-align: middle;\n",
              "    }\n",
              "\n",
              "    .dataframe tbody tr th {\n",
              "        vertical-align: top;\n",
              "    }\n",
              "\n",
              "    .dataframe thead th {\n",
              "        text-align: right;\n",
              "    }\n",
              "</style>\n",
              "<table border=\"1\" class=\"dataframe\">\n",
              "  <thead>\n",
              "    <tr style=\"text-align: right;\">\n",
              "      <th></th>\n",
              "      <th>Index No.</th>\n",
              "      <th>Intent</th>\n",
              "      <th>Sentence</th>\n",
              "    </tr>\n",
              "  </thead>\n",
              "  <tbody>\n",
              "    <tr>\n",
              "      <th>0</th>\n",
              "      <td>0</td>\n",
              "      <td>AddToPlaylist</td>\n",
              "      <td>I'd like to have this track onto my Classical ...</td>\n",
              "    </tr>\n",
              "    <tr>\n",
              "      <th>1</th>\n",
              "      <td>1</td>\n",
              "      <td>AddToPlaylist</td>\n",
              "      <td>Add the album to my Flow Español playlist.</td>\n",
              "    </tr>\n",
              "    <tr>\n",
              "      <th>2</th>\n",
              "      <td>2</td>\n",
              "      <td>AddToPlaylist</td>\n",
              "      <td>add digging now to my Young at Heart playlist</td>\n",
              "    </tr>\n",
              "    <tr>\n",
              "      <th>3</th>\n",
              "      <td>3</td>\n",
              "      <td>AddToPlaylist</td>\n",
              "      <td>add this song by Too Poetic to my Piano Ballad...</td>\n",
              "    </tr>\n",
              "    <tr>\n",
              "      <th>4</th>\n",
              "      <td>4</td>\n",
              "      <td>AddToPlaylist</td>\n",
              "      <td>Add this album to Old School Death Metal</td>\n",
              "    </tr>\n",
              "    <tr>\n",
              "      <th>5</th>\n",
              "      <td>5</td>\n",
              "      <td>AddToPlaylist</td>\n",
              "      <td>I need to add baro ferret to the Urban Hits un...</td>\n",
              "    </tr>\n",
              "    <tr>\n",
              "      <th>6</th>\n",
              "      <td>6</td>\n",
              "      <td>AddToPlaylist</td>\n",
              "      <td>Add the album to the Might and Myth Power Meta...</td>\n",
              "    </tr>\n",
              "    <tr>\n",
              "      <th>7</th>\n",
              "      <td>7</td>\n",
              "      <td>AddToPlaylist</td>\n",
              "      <td>To the travelling playlist, please add this Da...</td>\n",
              "    </tr>\n",
              "    <tr>\n",
              "      <th>8</th>\n",
              "      <td>8</td>\n",
              "      <td>AddToPlaylist</td>\n",
              "      <td>Please add some Pete Townshend to my playlist ...</td>\n",
              "    </tr>\n",
              "    <tr>\n",
              "      <th>9</th>\n",
              "      <td>9</td>\n",
              "      <td>AddToPlaylist</td>\n",
              "      <td>I'd like for Kasey Chambers 's tune to be an a...</td>\n",
              "    </tr>\n",
              "  </tbody>\n",
              "</table>\n",
              "</div>"
            ],
            "text/plain": [
              "   Index No.         Intent                                           Sentence\n",
              "0          0  AddToPlaylist  I'd like to have this track onto my Classical ...\n",
              "1          1  AddToPlaylist         Add the album to my Flow Español playlist.\n",
              "2          2  AddToPlaylist      add digging now to my Young at Heart playlist\n",
              "3          3  AddToPlaylist  add this song by Too Poetic to my Piano Ballad...\n",
              "4          4  AddToPlaylist           Add this album to Old School Death Metal\n",
              "5          5  AddToPlaylist  I need to add baro ferret to the Urban Hits un...\n",
              "6          6  AddToPlaylist  Add the album to the Might and Myth Power Meta...\n",
              "7          7  AddToPlaylist  To the travelling playlist, please add this Da...\n",
              "8          8  AddToPlaylist  Please add some Pete Townshend to my playlist ...\n",
              "9          9  AddToPlaylist  I'd like for Kasey Chambers 's tune to be an a..."
            ]
          },
          "metadata": {
            "tags": []
          },
          "execution_count": 86
        }
      ]
    },
    {
      "cell_type": "markdown",
      "metadata": {
        "id": "nHM4uWwVKtS7"
      },
      "source": [
        "***PREDICTING THE INTENT CLASS***"
      ]
    },
    {
      "cell_type": "code",
      "metadata": {
        "colab": {
          "base_uri": "https://localhost:8080/"
        },
        "id": "P7eInlJrK8mZ",
        "outputId": "53e16477-38f9-4765-b317-20ae4ef7a92c"
      },
      "source": [
        "query='Alexa, Play Demons track by Imagine Dragons from Spotify'\n",
        "pred = predictions(query)\n",
        "class_name,conf_score=get_final_intent(pred, unique_intent)\n",
        "\n",
        "print(query)\n",
        "print('Intent : ',class_name)\n",
        "print('Confidence Score :',conf_score)\n",
        "\n"
      ],
      "execution_count": null,
      "outputs": [
        {
          "output_type": "stream",
          "text": [
            "Alexa, Play Demons track by Imagine Dragons from Spotify\n",
            "Intent :  PlayMusic\n",
            "Confidence Score : 0.9995523\n"
          ],
          "name": "stdout"
        }
      ]
    },
    {
      "cell_type": "code",
      "metadata": {
        "colab": {
          "base_uri": "https://localhost:8080/"
        },
        "id": "8PUZ2BXaki_n",
        "outputId": "49499cd4-2b6e-49c4-ada4-9343d86c6788"
      },
      "source": [
        "query='add heresy and the hotel choir to the evening acoustic playlist'\n",
        "pred = predictions(query)\n",
        "class_name,conf_score=get_final_intent(pred, unique_intent)\n",
        "\n",
        "print(query)\n",
        "print('Intent : ',class_name)\n",
        "print('Confidence Score :',conf_score)\n",
        "\n"
      ],
      "execution_count": null,
      "outputs": [
        {
          "output_type": "stream",
          "text": [
            "add heresy and the hotel choir to the evening acoustic playlist\n",
            "Intent :  AddToPlaylist\n",
            "Confidence Score : 0.99999845\n"
          ],
          "name": "stdout"
        }
      ]
    },
    {
      "cell_type": "code",
      "metadata": {
        "colab": {
          "base_uri": "https://localhost:8080/"
        },
        "id": "134dMmhMd72B",
        "outputId": "3676c2bd-e808-49b3-cb1a-8fd935ef6099"
      },
      "source": [
        "query='Book a table for two people at Seashell on next friday'\n",
        "pred=predictions(query)\n",
        "class_name,conf_score=get_final_intent(pred,unique_intent)\n",
        "\n",
        "print(query)\n",
        "print('Intent : ',class_name)\n",
        "print('Confidence Score :',conf_score)"
      ],
      "execution_count": null,
      "outputs": [
        {
          "output_type": "stream",
          "text": [
            "Book a table for two people at Seashell on next friday\n",
            "Intent :  BookRestaurant\n",
            "Confidence Score : 0.9999993\n"
          ],
          "name": "stdout"
        }
      ]
    },
    {
      "cell_type": "code",
      "metadata": {
        "colab": {
          "base_uri": "https://localhost:8080/"
        },
        "id": "fHqrF1xTHwqU",
        "outputId": "fd954279-7d64-40a0-ce69-e6ed7129039f"
      },
      "source": [
        "query='is it snowing it out there at London right now?'\n",
        "pred=predictions(query)\n",
        "class_name,conf_score=get_final_intent(pred,unique_intent)\n",
        "\n",
        "print(query)\n",
        "print('Intent : ',class_name)\n",
        "print('Confidence Score :',conf_score)\n",
        "\n"
      ],
      "execution_count": null,
      "outputs": [
        {
          "output_type": "stream",
          "text": [
            "Is it snowing out there at London right now?\n",
            "Intent :  GetWeather\n",
            "Confidence Score : 0.99996054\n"
          ],
          "name": "stdout"
        }
      ]
    },
    {
      "cell_type": "markdown",
      "metadata": {
        "id": "IOjl0LxzKbZ_"
      },
      "source": [
        "***TRAINING AND VALIDATION ACCURACY GRAPH PLOTS***"
      ]
    },
    {
      "cell_type": "code",
      "metadata": {
        "id": "uETDXV8BTSzA",
        "colab": {
          "base_uri": "https://localhost:8080/",
          "height": 295
        },
        "outputId": "1db4fc0a-9146-49cf-8bae-c78fda74be1e"
      },
      "source": [
        "plt.plot(hist.history['accuracy'])\n",
        "plt.plot(hist.history['val_accuracy'])\n",
        "plt.title('Training and Validation Accuracy')\n",
        "plt.ylabel('accuracy')\n",
        "plt.xlabel('epoch')\n",
        "plt.legend(['train', 'valid'], loc='lower right')\n",
        "plt.show()\n",
        "\n"
      ],
      "execution_count": null,
      "outputs": [
        {
          "output_type": "display_data",
          "data": {
            "image/png": "[encoded data removed]",
            "text/plain": [
              "<Figure size 432x288 with 1 Axes>"
            ]
          },
          "metadata": {
            "tags": [],
            "needs_background": "light"
          }
        }
      ]
    },
    {
      "cell_type": "markdown",
      "metadata": {
        "id": "uNYK5wklKm_s"
      },
      "source": [
        "***TRAINING AND VALIDATION LOSS GRAPH PLOTS***"
      ]
    },
    {
      "cell_type": "code",
      "metadata": {
        "colab": {
          "base_uri": "https://localhost:8080/",
          "height": 295
        },
        "id": "CtgGiSSeUxOt",
        "outputId": "d99e361c-4570-48b2-929a-a99cc0f89898"
      },
      "source": [
        "plt.plot(hist.history['loss'])\n",
        "plt.plot(hist.history['val_loss'])\n",
        "plt.title('Training and Validation Loss')\n",
        "plt.ylabel('loss')\n",
        "plt.xlabel('epoch')\n",
        "plt.legend(['train', 'valid'], loc='upper right')\n",
        "plt.show()"
      ],
      "execution_count": null,
      "outputs": [
        {
          "output_type": "display_data",
          "data": {
            "image/png": "[encoded data removed]",
            "text/plain": [
              "<Figure size 432x288 with 1 Axes>"
            ]
          },
          "metadata": {
            "tags": [],
            "needs_background": "light"
          }
        }
      ]
    },
    {
      "cell_type": "code",
      "metadata": {
        "id": "wd_lMB1Fe5HB",
        "colab": {
          "base_uri": "https://localhost:8080/"
        },
        "outputId": "d94205d6-76e9-4efc-fbc1-4a14862feb44"
      },
      "source": [
        "file = open(\"queries.txt\", \"r\")\n",
        "queries=[]\n",
        "for i in range(0,11):  \n",
        "  line=file.readline()\n",
        "  queries.append(line)\n",
        "\n",
        "\n",
        "class_table = []\n",
        "\n",
        "\n",
        "for query in queries:\n",
        "\n",
        "  pred = predictions(query)\n",
        "  class_names=get_final_intent(pred, unique_intent)\n",
        "  class_table.append(\n",
        "    [\n",
        "      query,\n",
        "      class_names,\n",
        "    ]\n",
        "  )\n",
        "\n",
        "df = pd.DataFrame(class_table, columns=['Query', 'Intent'])\n",
        "\n",
        "#pd.set_option('display.max_columns', 999)\n",
        "#pd.set_option('expand_frame_repr', False)\n",
        "print(df.to_markdown(tablefmt=\"grid\"))\n",
        "\n"
      ],
      "execution_count": 87,
      "outputs": [
        {
          "output_type": "stream",
          "text": [
            "+----+-----------------------------------------------------------------------------------+--------------------------------------------------------------+\n",
            "|    | Query                                                                             | Intent                                                       |\n",
            "+====+===================================================================================+==============================================================+\n",
            "|  0 | Alexa, Play Demons track by Imagine Dragons from Spotify                          | ['PlayMusic', 'SearchCreativeWork', 'AddToPlaylist']         |\n",
            "+----+-----------------------------------------------------------------------------------+--------------------------------------------------------------+\n",
            "|  1 | is it snowing it out there at London right now?                                   | ['GetWeather', 'SearchScreeningEvent', 'SearchCreativeWork'] |\n",
            "+----+-----------------------------------------------------------------------------------+--------------------------------------------------------------+\n",
            "|  2 | add stitches track to the evening acoustic playlist                               | ['AddToPlaylist', 'PlayMusic', 'SearchCreativeWork']         |\n",
            "+----+-----------------------------------------------------------------------------------+--------------------------------------------------------------+\n",
            "|  3 | book a table at the rock for two people , next monday night                       | ['BookRestaurant', 'GetWeather', 'SearchCreativeWork']       |\n",
            "+----+-----------------------------------------------------------------------------------+--------------------------------------------------------------+\n",
            "|  4 | give five stars for the Percy Jackson                                             | ['RateBook', 'SearchCreativeWork', 'BookRestaurant']         |\n",
            "+----+-----------------------------------------------------------------------------------+--------------------------------------------------------------+\n",
            "|  5 | Wish to see the photograph with the name Live: Right Here                         | ['SearchCreativeWork', 'SearchScreeningEvent', 'RateBook']   |\n",
            "+----+-----------------------------------------------------------------------------------+--------------------------------------------------------------+\n",
            "|  6 | I want to see DOA: Dead or Alive at Loews Cineplex Entertainment                  | ['SearchScreeningEvent', 'SearchCreativeWork', 'GetWeather'] |\n",
            "+----+-----------------------------------------------------------------------------------+--------------------------------------------------------------+\n",
            "|  7 | Play Modern Psychedelia                                                           | ['PlayMusic', 'SearchCreativeWork', 'SearchScreeningEvent']  |\n",
            "+----+-----------------------------------------------------------------------------------+--------------------------------------------------------------+\n",
            "|  8 | What is the rain forecast for one hour from now in South Korea                    | ['GetWeather', 'SearchScreeningEvent', 'SearchCreativeWork'] |\n",
            "+----+-----------------------------------------------------------------------------------+--------------------------------------------------------------+\n",
            "|  9 | I want to book a restaurant in sixteen seconds for 5 people in Gold Point Montana | ['BookRestaurant', 'GetWeather', 'SearchCreativeWork']       |\n",
            "+----+-----------------------------------------------------------------------------------+--------------------------------------------------------------+\n",
            "| 10 | Add the artist to the political punks playlist                                    | ['AddToPlaylist', 'SearchCreativeWork', 'PlayMusic']         |\n",
            "+----+-----------------------------------------------------------------------------------+--------------------------------------------------------------+\n"
          ],
          "name": "stdout"
        }
      ]
    }
  ]
}